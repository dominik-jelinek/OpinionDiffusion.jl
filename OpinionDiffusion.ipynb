{
 "cells": [
  {
   "cell_type": "markdown",
   "metadata": {},
   "source": [
    "### Init"
   ]
  },
  {
   "cell_type": "markdown",
   "metadata": {},
   "source": [
    "Sample encoded database for better performance"
   ]
  },
  {
   "cell_type": "code",
   "execution_count": null,
   "metadata": {},
   "outputs": [],
   "source": [
    "dataSize = 3000\n",
    "indexes = sample(1:size(encodedDB, 2), dataSize, replace=false)\n",
    "data = getCol(encodedDB, indexes)\n",
    "outDim = 2"
   ]
  },
  {
   "cell_type": "markdown",
   "metadata": {},
   "source": [
    "Use the whole database"
   ]
  },
  {
   "cell_type": "code",
   "execution_count": null,
   "metadata": {},
   "outputs": [],
   "source": [
    "indexes = 1:size(encodedDB, 2)\n",
    "data = encodedDB\n",
    "outdim = 2"
   ]
  },
  {
   "cell_type": "markdown",
   "metadata": {},
   "source": [
    "### PCA"
   ]
  },
  {
   "cell_type": "code",
   "execution_count": null,
   "metadata": {},
   "outputs": [],
   "source": [
    "DimRedMethod = \"PCA\"\n",
    "model = fit(PCA, data; maxoutdim=outDim)\n",
    "pred = MultivariateStats.transform(model, data)"
   ]
  },
  {
   "cell_type": "markdown",
   "metadata": {},
   "source": [
    "### T-sne"
   ]
  },
  {
   "cell_type": "code",
   "execution_count": null,
   "metadata": {},
   "outputs": [],
   "source": [
    "DimRedMethod = \"T-sne\"\n",
    "reduce_dims = 0\n",
    "max_iter = 3000\n",
    "perplexity = 100.0\n",
    "pred = permutedims(tsne(distances[indexes, indexes], distance=true, outDim, reduce_dims, max_iter, perplexity))"
   ]
  },
  {
   "cell_type": "markdown",
   "metadata": {},
   "source": [
    "# Clustering"
   ]
  },
  {
   "cell_type": "markdown",
   "metadata": {},
   "source": [
    "The closer the silhouette value is to 1.0 the better the clustering is"
   ]
  },
  {
   "cell_type": "markdown",
   "metadata": {},
   "source": [
    "### Init"
   ]
  },
  {
   "cell_type": "code",
   "execution_count": null,
   "metadata": {},
   "outputs": [],
   "source": [
    "cluster_count=8"
   ]
  },
  {
   "cell_type": "markdown",
   "metadata": {},
   "source": [
    "### Based on first first in preference"
   ]
  },
  {
   "cell_type": "code",
   "execution_count": null,
   "metadata": {},
   "outputs": [],
   "source": [
    "ClustMethod = \"Party\"\n",
    "labels = database[1, indexes]\n",
    "clusters = clusterize(labels, candidates, parties)\n",
    "mean(silhouettes(labels, distances[indexes, indexes]))"
   ]
  },
  {
   "cell_type": "markdown",
   "metadata": {},
   "source": [
    "### K-means"
   ]
  },
  {
   "cell_type": "code",
   "execution_count": null,
   "metadata": {},
   "outputs": [],
   "source": [
    "ClustMethod = \"K-means\"\n",
    "KmeansRes = kmeans(data, cluster_count; maxiter=200)\n",
    "labels = KmeansRes.assignments\n",
    "clusters = clusterize(labels)\n",
    "mean(silhouettes(labels, distances[indexes, indexes]))"
   ]
  },
  {
   "cell_type": "markdown",
   "metadata": {},
   "source": [
    "### Gaussian mixtures"
   ]
  },
  {
   "cell_type": "code",
   "execution_count": null,
   "metadata": {},
   "outputs": [],
   "source": [
    "ClustMethod = \"GM\"\n",
    "data_T = permutedims(data)\n",
    "gm = GaussianMixture(n_components=cluster_count).fit(data_T)\n",
    "labels = gm.predict(data_T) .+ 1\n",
    "clusters = clusterize(labels)\n",
    "mean(silhouettes(labels, distances[indexes, indexes]))"
   ]
  },
  {
   "cell_type": "markdown",
   "metadata": {},
   "source": [
    "## Clustering Validation"
   ]
  },
  {
   "cell_type": "code",
   "execution_count": null,
   "metadata": {},
   "outputs": [],
   "source": [
    "mean(silhouettes(labels, distances[indexes, indexes]))"
   ]
  },
  {
   "cell_type": "markdown",
   "metadata": {},
   "source": [
    "## Clustering visualization"
   ]
  },
  {
   "cell_type": "markdown",
   "metadata": {},
   "source": [
    "Save template clusters for later to match cluster colours based on it"
   ]
  },
  {
   "cell_type": "code",
   "execution_count": null,
   "metadata": {},
   "outputs": [],
   "source": [
    "template = clusters"
   ]
  },
  {
   "cell_type": "code",
   "execution_count": null,
   "metadata": {},
   "outputs": [],
   "source": [
    "unify_labels!(template, clusters)"
   ]
  },
  {
   "cell_type": "code",
   "execution_count": null,
   "metadata": {},
   "outputs": [],
   "source": [
    "visualize(pred, clusters, DimRedMethod, ClustMethod, output=true)"
   ]
  },
  {
   "cell_type": "markdown",
   "metadata": {},
   "source": [
    "### Creating graph out of clustered database"
   ]
  },
  {
   "cell_type": "code",
   "execution_count": null,
   "metadata": {},
   "outputs": [],
   "source": [
    "@time G = createClusteredMetaGraph(g, clusters, labels)"
   ]
  },
  {
   "cell_type": "markdown",
   "metadata": {},
   "source": [
    "## Drawing clustered graph"
   ]
  },
  {
   "cell_type": "code",
   "execution_count": null,
   "metadata": {},
   "outputs": [],
   "source": [
    "@time drawClusteredMetaGraph(G)"
   ]
  },
  {
   "cell_type": "markdown",
   "metadata": {},
   "source": [
    "# Main ________________________________"
   ]
  },
  {
   "cell_type": "code",
   "execution_count": 1,
   "metadata": {},
   "outputs": [],
   "source": [
    "using Revise"
   ]
  },
  {
   "cell_type": "code",
   "execution_count": 2,
   "metadata": {},
   "outputs": [
    {
     "data": {
      "text/html": [
       "<script>\n",
       "// Immediately-invoked-function-expression to avoid global variables.\n",
       "(function() {\n",
       "    var warning_div = document.getElementById(\"webio-warning-18298259272998564304\");\n",
       "    var hide = function () {\n",
       "        var script = document.getElementById(\"webio-setup-946369705831781315\");\n",
       "        var parent = script && script.parentElement;\n",
       "        var grandparent = parent && parent.parentElement;\n",
       "        if (grandparent) {\n",
       "            grandparent.style.display = \"none\";\n",
       "        }\n",
       "        warning_div.style.display = \"none\";\n",
       "    };\n",
       "    if (typeof Jupyter !== \"undefined\") {\n",
       "        console.log(\"WebIO detected Jupyter notebook environment.\");\n",
       "        // Jupyter notebook.\n",
       "        var extensions = (\n",
       "            Jupyter\n",
       "            && Jupyter.notebook.config.data\n",
       "            && Jupyter.notebook.config.data.load_extensions\n",
       "        );\n",
       "        if (extensions && extensions[\"webio-jupyter-notebook\"]) {\n",
       "            // Extension already loaded.\n",
       "            console.log(\"Jupyter WebIO nbextension detected; not loading ad-hoc.\");\n",
       "            hide();\n",
       "            return;\n",
       "        }\n",
       "    } else if (window.location.pathname.includes(\"/lab\")) {\n",
       "        // Guessing JupyterLa\n",
       "        console.log(\"Jupyter Lab detected; make sure the @webio/jupyter-lab-provider labextension is installed.\");\n",
       "        hide();\n",
       "        return;\n",
       "    }\n",
       "})();\n",
       "\n",
       "</script>\n",
       "<p\n",
       "    id=\"webio-warning-18298259272998564304\"\n",
       "    class=\"output_text output_stderr\"\n",
       "    style=\"padding: 1em; font-weight: bold;\"\n",
       ">\n",
       "    Unable to load WebIO. Please make sure WebIO works for your Jupyter client.\n",
       "    For troubleshooting, please see <a href=\"https://juliagizmos.github.io/WebIO.jl/latest/providers/ijulia/\">\n",
       "    the WebIO/IJulia documentation</a>.\n",
       "    <!-- TODO: link to installation docs. -->\n",
       "</p>\n"
      ],
      "text/plain": [
       "HTML{String}(\"<script>\\n// Immediately-invoked-function-expression to avoid global variables.\\n(function() {\\n    var warning_div = document.getElementById(\\\"webio-warning-18298259272998564304\\\");\\n    var hide = function () {\\n        var script = document.getElementById(\\\"webio-setup-946369705831781315\\\");\\n        var parent = script && script.parentElement;\\n        var grandparent = parent && parent.parentElement;\\n        if (grandparent) {\\n            grandparent.style.display = \\\"none\\\";\\n        }\\n        warning_div.style.display = \\\"none\\\";\\n    };\\n    if (typeof Jupyter !== \\\"undefined\\\") {\\n        console.log(\\\"WebIO detected Jupyter notebook environment.\\\");\\n        // Jupyter notebook.\\n        var extensions = (\\n            Jupyter\\n            && Jupyter.notebook.config.data\\n            && Jupyter.notebook.config.data.load_extensions\\n        );\\n        if (extensions && extensions[\\\"webio-jupyter-notebook\\\"]) {\\n            // Extension already loaded.\\n            console.log(\\\"Jupyter WebIO nbextension detected; not loading ad-hoc.\\\");\\n            hide();\\n            return;\\n        }\\n    } else if (window.location.pathname.includes(\\\"/lab\\\")) {\\n        // Guessing JupyterLa\\n        console.log(\\\"Jupyter Lab detected; make sure the @webio/jupyter-lab-provider labextension is installed.\\\");\\n        hide();\\n        return;\\n    }\\n})();\\n\\n</script>\\n<p\\n    id=\\\"webio-warning-18298259272998564304\\\"\\n    class=\\\"output_text output_stderr\\\"\\n    style=\\\"padding: 1em; font-weight: bold;\\\"\\n>\\n    Unable to load WebIO. Please make sure WebIO works for your Jupyter client.\\n    For troubleshooting, please see <a href=\\\"https://juliagizmos.github.io/WebIO.jl/latest/providers/ijulia/\\\">\\n    the WebIO/IJulia documentation</a>.\\n    <!-- TODO: link to installation docs. -->\\n</p>\\n\")"
      ]
     },
     "metadata": {},
     "output_type": "display_data"
    }
   ],
   "source": [
    "using OpinionDiffusion"
   ]
  },
  {
   "cell_type": "code",
   "execution_count": null,
   "metadata": {},
   "outputs": [],
   "source": [
    "@sk_import mixture : GaussianMixture\n",
    "Base.show(io::IO, f::Float64) = @printf(io, \"%1.4f\", f)"
   ]
  },
  {
   "cell_type": "code",
   "execution_count": 3,
   "metadata": {},
   "outputs": [
    {
     "data": {
      "text/plain": [
       "Plots.PlotlyBackend()"
      ]
     },
     "execution_count": 3,
     "metadata": {},
     "output_type": "execute_result"
    }
   ],
   "source": [
    "OpinionDiffusion.Plots.PlotlyBackend()"
   ]
  },
  {
   "cell_type": "markdown",
   "metadata": {},
   "source": [
    "Parse input data"
   ]
  },
  {
   "cell_type": "code",
   "execution_count": 4,
   "metadata": {},
   "outputs": [
    {
     "name": "stdout",
     "output_type": "stream",
     "text": [
      "  0.205552 seconds (568.52 k allocations: 55.975 MiB, 20.93% gc time, 7.01% compilation time)\n"
     ]
    },
    {
     "data": {
      "text/plain": [
       "([\"G.P.\", \"Lab\", \"F.F.\", \"S.P.\", \"S.F.\", \"P.D.\", \"Csp\", \"F.G.\"], OpinionDiffusion.Candidate[OpinionDiffusion.Candidate(\"Robert Bonnie\", 1), OpinionDiffusion.Candidate(\"Joan Burton\", 2), OpinionDiffusion.Candidate(\"Deirdre Doherty Ryan\", 3), OpinionDiffusion.Candidate(\"Joe Higgins\", 4), OpinionDiffusion.Candidate(\"Brian Lenihan\", 3), OpinionDiffusion.Candidate(\"Mary Lou Mc Donald\", 5), OpinionDiffusion.Candidate(\"Tom Morrissey\", 6), OpinionDiffusion.Candidate(\"John Thomas Smyth C.C.\", 7), OpinionDiffusion.Candidate(\"Sheila Terry\", 8)], [[[5], [3], [7], [1, 2, 4, 6, 8, 9]], [[5], [3], [7], [1, 2, 4, 6, 8, 9]], [[5], [3], [7], [1, 2, 4, 6, 8, 9]], [[5], [3], [7], [1, 2, 4, 6, 8, 9]], [[5], [3], [7], [1, 2, 4, 6, 8, 9]], [[5], [3], [7], [1, 2, 4, 6, 8, 9]], [[5], [3], [7], [1, 2, 4, 6, 8, 9]], [[5], [3], [7], [1, 2, 4, 6, 8, 9]], [[5], [3], [7], [1, 2, 4, 6, 8, 9]], [[5], [3], [7], [1, 2, 4, 6, 8, 9]]  …  [[7], [5], [4], [3], [2], [1], [9], [8], [6]], [[4], [2], [7], [9], [3], [5], [1, 6, 8]], [[9], [4], [5], [7], [6], [1, 2, 3, 8]], [[4], [1], [7], [9], [2], [6], [3], [5], [8]], [[1], [5], [2], [4], [9], [3], [8], [6], [7]], [[4], [2], [9], [7], [3], [1], [8], [6], [5]], [[2], [4], [1], [5], [3], [6], [9], [7], [8]], [[5], [3], [9], [2], [4], [7], [1, 6, 8]], [[5], [7], [2], [9], [6], [3], [4], [8], [1]], [[2], [4], [7], [9], [5], [3], [1], [6, 8]]])"
      ]
     },
     "execution_count": 4,
     "metadata": {},
     "output_type": "execute_result"
    }
   ],
   "source": [
    "input_filename = \"ED-00001-00000002.toc\"\n",
    "@time parties, candidates, election = parse_data2(input_filename)"
   ]
  },
  {
   "cell_type": "code",
   "execution_count": 5,
   "metadata": {},
   "outputs": [
    {
     "data": {
      "text/plain": [
       "Dict{String, Any} with 3 entries:\n",
       "  \"weight_func\"    => Dict{String, Any}(\"base\"=>0.5, \"type\"=>\"exp\")\n",
       "  \"dist_metric\"    => \"L1\"\n",
       "  \"edge_init_func\" => Dict{String, Any}(\"base\"=>0.5, \"offset\"=>-6.28, \"type\"=>\"…"
      ]
     },
     "execution_count": 5,
     "metadata": {},
     "output_type": "execute_result"
    }
   ],
   "source": [
    "model_config = Dict(\n",
    "    \"weight_func\" => Dict(\n",
    "        \"type\" => \"exp\",\n",
    "        \"base\" => 1/2\n",
    "    ),\n",
    "    \"dist_metric\" => \"L1\",\n",
    "    \"edge_init_func\" => Dict(\n",
    "        \"type\" => \"exp\",\n",
    "        \"base\" => 1/2,\n",
    "        \"offset\" => -6.28\n",
    "    )\n",
    ")"
   ]
  },
  {
   "cell_type": "code",
   "execution_count": null,
   "metadata": {
    "scrolled": false
   },
   "outputs": [],
   "source": [
    "model = Spearman_model(election, length(candidates), model_config)"
   ]
  },
  {
   "cell_type": "code",
   "execution_count": null,
   "metadata": {},
   "outputs": [],
   "source": [
    "model.log_dir"
   ]
  },
  {
   "cell_type": "code",
   "execution_count": 6,
   "metadata": {},
   "outputs": [
    {
     "data": {
      "text/plain": [
       "Spearman_model(OpinionDiffusion.Spearman_voter[OpinionDiffusion.Spearman_voter(1, [0.05054432348367029, 0.05054432348367029, 0.19906687402799378, 0.05054432348367029, 0.39813374805598756, 0.05054432348367029, 0.09953343701399689, 0.05054432348367029, 0.05054432348367029], 0.5236957031079401, 0.4138570715231003), OpinionDiffusion.Spearman_voter(2, [0.05054432348367029, 0.05054432348367029, 0.19906687402799378, 0.05054432348367029, 0.39813374805598756, 0.05054432348367029, 0.09953343701399689, 0.05054432348367029, 0.05054432348367029], 0.2774860712520548, 0.437116248727071), OpinionDiffusion.Spearman_voter(3, [0.05054432348367029, 0.05054432348367029, 0.19906687402799378, 0.05054432348367029, 0.39813374805598756, 0.05054432348367029, 0.09953343701399689, 0.05054432348367029, 0.05054432348367029], 0.4768312678910844, 0.3641331927200218), OpinionDiffusion.Spearman_voter(4, [0.05054432348367029, 0.05054432348367029, 0.19906687402799378, 0.05054432348367029, 0.39813374805598756, 0.05054432348367029, 0.09953343701399689, 0.05054432348367029, 0.05054432348367029], 0.5107169367427953, 0.48564019276606785), OpinionDiffusion.Spearman_voter(5, [0.05054432348367029, 0.05054432348367029, 0.19906687402799378, 0.05054432348367029, 0.39813374805598756, 0.05054432348367029, 0.09953343701399689, 0.05054432348367029, 0.05054432348367029], 0.6154459041717347, 0.3535953735019818), OpinionDiffusion.Spearman_voter(6, [0.05054432348367029, 0.05054432348367029, 0.19906687402799378, 0.05054432348367029, 0.39813374805598756, 0.05054432348367029, 0.09953343701399689, 0.05054432348367029, 0.05054432348367029], 0.5590658500734453, 0.586418144315223), OpinionDiffusion.Spearman_voter(7, [0.05054432348367029, 0.05054432348367029, 0.19906687402799378, 0.05054432348367029, 0.39813374805598756, 0.05054432348367029, 0.09953343701399689, 0.05054432348367029, 0.05054432348367029], 0.3523195501841345, 0.4422756034128454), OpinionDiffusion.Spearman_voter(8, [0.05054432348367029, 0.05054432348367029, 0.19906687402799378, 0.05054432348367029, 0.39813374805598756, 0.05054432348367029, 0.09953343701399689, 0.05054432348367029, 0.05054432348367029], 0.4408458160614769, 0.5596463626368098), OpinionDiffusion.Spearman_voter(9, [0.05054432348367029, 0.05054432348367029, 0.19906687402799378, 0.05054432348367029, 0.39813374805598756, 0.05054432348367029, 0.09953343701399689, 0.05054432348367029, 0.05054432348367029], 0.3608381287460659, 0.4610696975541316), OpinionDiffusion.Spearman_voter(10, [0.05054432348367029, 0.05054432348367029, 0.19906687402799378, 0.05054432348367029, 0.39813374805598756, 0.05054432348367029, 0.09953343701399689, 0.05054432348367029, 0.05054432348367029], 0.5107711142045437, 0.561663599167833)  …  OpinionDiffusion.Spearman_voter(29979, [0.015655577299412915, 0.03131115459882583, 0.06262230919765166, 0.12524461839530332, 0.25048923679060664, 0.0019569471624266144, 0.5009784735812133, 0.003913894324853229, 0.007827788649706457], 0.46123015774645776, 0.4826818256664397), OpinionDiffusion.Spearman_voter(29980, [0.008695652173913044, 0.24734299516908212, 0.030917874396135265, 0.49468599033816424, 0.015458937198067632, 0.008695652173913044, 0.12367149758454106, 0.008695652173913044, 0.06183574879227053], 0.4506439671153365, 0.5685446781913652), OpinionDiffusion.Spearman_voter(29981, [0.016037735849056604, 0.016037735849056604, 0.016037735849056604, 0.24150943396226415, 0.12075471698113208, 0.03018867924528302, 0.06037735849056604, 0.016037735849056604, 0.4830188679245283], 0.547370913111078, 0.5523177411653355), OpinionDiffusion.Spearman_voter(29982, [0.25048923679060664, 0.03131115459882583, 0.007827788649706457, 0.5009784735812133, 0.003913894324853229, 0.015655577299412915, 0.12524461839530332, 0.0019569471624266144, 0.06262230919765166], 0.5257114212806229, 0.6298239670664423), OpinionDiffusion.Spearman_voter(29983, [0.5009784735812133, 0.12524461839530332, 0.015655577299412915, 0.06262230919765166, 0.25048923679060664, 0.003913894324853229, 0.0019569471624266144, 0.007827788649706457, 0.03131115459882583], 0.6380629658384204, 0.5757561885631843), OpinionDiffusion.Spearman_voter(29984, [0.015655577299412915, 0.25048923679060664, 0.03131115459882583, 0.5009784735812133, 0.0019569471624266144, 0.003913894324853229, 0.06262230919765166, 0.007827788649706457, 0.12524461839530332], 0.33609705678236956, 0.46131912947784465), OpinionDiffusion.Spearman_voter(29985, [0.12524461839530332, 0.5009784735812133, 0.03131115459882583, 0.25048923679060664, 0.06262230919765166, 0.015655577299412915, 0.003913894324853229, 0.0019569471624266144, 0.007827788649706457], 0.32017220513865174, 0.5662490116377946), OpinionDiffusion.Spearman_voter(29986, [0.008695652173913044, 0.06183574879227053, 0.24734299516908212, 0.030917874396135265, 0.49468599033816424, 0.008695652173913044, 0.015458937198067632, 0.008695652173913044, 0.12367149758454106], 0.3694505817901154, 0.5411024963586111), OpinionDiffusion.Spearman_voter(29987, [0.0019569471624266144, 0.12524461839530332, 0.015655577299412915, 0.007827788649706457, 0.5009784735812133, 0.03131115459882583, 0.25048923679060664, 0.003913894324853229, 0.06262230919765166], 0.4758820415672464, 0.48679450880883357), OpinionDiffusion.Spearman_voter(29988, [0.007797270955165692, 0.49902534113060426, 0.015594541910331383, 0.24951267056530213, 0.031189083820662766, 0.004873294346978557, 0.12475633528265107, 0.004873294346978557, 0.06237816764132553], 0.4349406247466101, 0.4660646230848973)], {29988, 6493836} undirected simple Int64 graph, \"logs/2021-06-24_15-40-59\", [1])"
      ]
     },
     "execution_count": 6,
     "metadata": {},
     "output_type": "execute_result"
    }
   ],
   "source": [
    "model = OpinionDiffusion.load(\"logs/2021-06-24_15-40-59/model.jld2\", \"model\")"
   ]
  },
  {
   "cell_type": "code",
   "execution_count": 7,
   "metadata": {},
   "outputs": [
    {
     "data": {
      "text/plain": [
       "Dict{String, Any} with 2 entries:\n",
       "  \"voter_visualization_config\" => Dict{String, Any}(\"used\"=>true, \"reduce_dim_c…\n",
       "  \"sample_size\"                => 3000"
      ]
     },
     "execution_count": 7,
     "metadata": {},
     "output_type": "execute_result"
    }
   ],
   "source": [
    "exp_config = Dict(\n",
    "    \"sample_size\" => 3000,\n",
    "    \"voter_visualization_config\" => Dict(\n",
    "        \"used\" => true,\n",
    "        \"reduce_dim_config\" => Dict(\n",
    "            \"used\" => true,\n",
    "            \"method\" => \"PCA\",\n",
    "            \"PCA\" => Dict(\n",
    "                \"out_dim\" => 2\n",
    "            ),\n",
    "            \"tsne\" => Dict(\n",
    "                \"out_dim\" => 2,\n",
    "                \"reduce_dims\" => 0,\n",
    "                \"max_iter\" => 3000,\n",
    "                \"perplexity\" => 100.0\n",
    "            )\n",
    "        ),\n",
    "        \"clustering_config\" => Dict(\n",
    "            \"used\" => true,\n",
    "            \"method\" => \"Party\",\n",
    "            \"K-means\" => Dict(\n",
    "                \"cluster_count\" => 8\n",
    "            ),\n",
    "            \"GM\" => Dict(\n",
    "                \"cluster_count\" => 8\n",
    "            )\n",
    "        )\n",
    "    )\n",
    ")"
   ]
  },
  {
   "cell_type": "code",
   "execution_count": 15,
   "metadata": {},
   "outputs": [
    {
     "ename": "LoadError",
     "evalue": "UndefVarError: jldsave not defined",
     "output_type": "error",
     "traceback": [
      "UndefVarError: jldsave not defined",
      "",
      "Stacktrace:",
      " [1] Experiment(model::Spearman_model, candidates::Vector{OpinionDiffusion.Candidate}, parties::Vector{String}, backend::Type{Plots.PlotlyBackend}, exp_config::Dict{String, Any})",
      "   @ OpinionDiffusion D:\\OneDrive\\MFF UK\\bakalarka\\OpinionDiffusion\\src\\experiment\\Experiment.jl:38",
      " [2] top-level scope",
      "   @ In[15]:1",
      " [3] eval",
      "   @ .\\boot.jl:360 [inlined]",
      " [4] include_string(mapexpr::typeof(REPL.softscope), mod::Module, code::String, filename::String)",
      "   @ Base .\\loading.jl:1094"
     ]
    }
   ],
   "source": [
    "experiment = Experiment(model, candidates, parties, OpinionDiffusion.Plots.PlotlyBackend, exp_config)"
   ]
  },
  {
   "cell_type": "code",
   "execution_count": 9,
   "metadata": {},
   "outputs": [
    {
     "data": {
      "text/plain": [
       "Dict{String, Any} with 4 entries:\n",
       "  \"edge_diff_config\"  => Dict{String, Any}(\"dist_metric\"=>\"L1\", \"evolve_edges\"=…\n",
       "  \"voter_diff_config\" => Dict{String, Any}(\"method\"=>\"averageAll\", \"evolve_vert…\n",
       "  \"diffusions\"        => 5\n",
       "  \"checkpoint\"        => 1"
      ]
     },
     "execution_count": 9,
     "metadata": {},
     "output_type": "execute_result"
    }
   ],
   "source": [
    "diffusion_config = Dict(\n",
    "        \"diffusions\" => 5,\n",
    "        \"checkpoint\" => 1,\n",
    "        \"voter_diff_config\" => Dict(\n",
    "            \"evolve_vertices\" => 100000,\n",
    "            \"method\" => \"averageAll\"\n",
    "        ),\n",
    "        \"edge_diff_config\" => Dict(\n",
    "            \"evolve_edges\" => 100000,\n",
    "            \"dist_metric\" => \"L1\",\n",
    "            \"edge_diff_func\" => Dict(\n",
    "                \"type\" => \"exp\",\n",
    "                \"base\" => 1/2\n",
    "            )\n",
    "        )\n",
    "    )"
   ]
  },
  {
   "cell_type": "code",
   "execution_count": 10,
   "metadata": {},
   "outputs": [
    {
     "ename": "LoadError",
     "evalue": "UndefVarError: experiment not defined",
     "output_type": "error",
     "traceback": [
      "UndefVarError: experiment not defined",
      "",
      "Stacktrace:",
      " [1] top-level scope",
      "   @ In[10]:1",
      " [2] eval",
      "   @ .\\boot.jl:360 [inlined]",
      " [3] include_string(mapexpr::typeof(REPL.softscope), mod::Module, code::String, filename::String)",
      "   @ Base .\\loading.jl:1094"
     ]
    }
   ],
   "source": [
    "diffusion_metrics = run_experiment!(experiment, candidates, parties, diffusion_config)"
   ]
  },
  {
   "cell_type": "code",
   "execution_count": null,
   "metadata": {},
   "outputs": [],
   "source": [
    "OpinionDiffusion.visualize_metrics(experiment, candidates, parties)"
   ]
  },
  {
   "cell_type": "code",
   "execution_count": null,
   "metadata": {},
   "outputs": [],
   "source": [
    "using Reexport\n",
    "using Interact"
   ]
  },
  {
   "cell_type": "code",
   "execution_count": null,
   "metadata": {},
   "outputs": [],
   "source": [
    "\n",
    "px=widget(0:0.01:.3, label=\"px\")\n",
    "hbox(px)"
   ]
  },
  {
   "cell_type": "code",
   "execution_count": null,
   "metadata": {},
   "outputs": [],
   "source": [
    "OpinionDiffusion.plot(experiment.visualizations.voter_visualizations[step], experiment.visualizations.degree_distributions[step], layout = (2, 1), size = (980,1200))"
   ]
  },
  {
   "cell_type": "code",
   "execution_count": null,
   "metadata": {},
   "outputs": [],
   "source": [
    "dist_metric = Euclidean()\n",
    "@time distances = pairwise(distMetric, [voter.opinion for voter in experiment.sampled_voters], dims=2)"
   ]
  },
  {
   "cell_type": "code",
   "execution_count": null,
   "metadata": {},
   "outputs": [],
   "source": [
    "labels = [voter.label for voter in experiment.sampled_voters]\n",
    "mean(silhouettes(labels, distances))"
   ]
  },
  {
   "cell_type": "code",
   "execution_count": null,
   "metadata": {},
   "outputs": [],
   "source": [
    "logdir = \"logs/\" * Dates.format(now(), \"yyyy-mm-dd_HH-MM-SS\")\n",
    "expCounter = 1\n",
    "mkpath(logdir)"
   ]
  },
  {
   "cell_type": "code",
   "execution_count": null,
   "metadata": {},
   "outputs": [],
   "source": [
    "weightFunc = parseFunction(initConfig[\"weightFunc\"])\n",
    "weights = map(weightFunc, 1.0:length(candidates))\n",
    "weights = translateRange(minimum(weights), maximum(weights), 0.0, 1.0, weights)"
   ]
  },
  {
   "cell_type": "code",
   "execution_count": null,
   "metadata": {},
   "outputs": [],
   "source": [
    "distMetric = parseMetric(initConfig[\"distMetric\"])\n",
    "@time distances = pairwise(distMetric, opinions, dims=2)"
   ]
  }
 ],
 "metadata": {
  "@webio": {
   "lastCommId": null,
   "lastKernelId": null
  },
  "kernelspec": {
   "display_name": "Julia 1.6.1",
   "language": "julia",
   "name": "julia-1.6"
  },
  "language_info": {
   "file_extension": ".jl",
   "mimetype": "application/julia",
   "name": "julia",
   "version": "1.6.1"
  }
 },
 "nbformat": 4,
 "nbformat_minor": 4
}
