{
 "cells": [
  {
   "cell_type": "markdown",
   "metadata": {},
   "source": [
    "### Init"
   ]
  },
  {
   "cell_type": "markdown",
   "metadata": {},
   "source": [
    "Sample encoded database for better performance"
   ]
  },
  {
   "cell_type": "code",
   "execution_count": null,
   "metadata": {},
   "outputs": [],
   "source": [
    "dataSize = 3000\n",
    "indexes = sample(1:size(encodedDB, 2), dataSize, replace=false)\n",
    "data = getCol(encodedDB, indexes)\n",
    "outDim = 2"
   ]
  },
  {
   "cell_type": "markdown",
   "metadata": {},
   "source": [
    "Use the whole database"
   ]
  },
  {
   "cell_type": "code",
   "execution_count": null,
   "metadata": {},
   "outputs": [],
   "source": [
    "indexes = 1:size(encodedDB, 2)\n",
    "data = encodedDB\n",
    "outdim = 2"
   ]
  },
  {
   "cell_type": "markdown",
   "metadata": {},
   "source": [
    "### PCA"
   ]
  },
  {
   "cell_type": "code",
   "execution_count": null,
   "metadata": {},
   "outputs": [],
   "source": [
    "DimRedMethod = \"PCA\"\n",
    "model = fit(PCA, data; maxoutdim=outDim)\n",
    "pred = MultivariateStats.transform(model, data)"
   ]
  },
  {
   "cell_type": "markdown",
   "metadata": {},
   "source": [
    "### T-sne"
   ]
  },
  {
   "cell_type": "code",
   "execution_count": null,
   "metadata": {},
   "outputs": [],
   "source": [
    "DimRedMethod = \"T-sne\"\n",
    "reduce_dims = 0\n",
    "max_iter = 3000\n",
    "perplexity = 100.0\n",
    "pred = permutedims(tsne(distances[indexes, indexes], distance=true, outDim, reduce_dims, max_iter, perplexity))"
   ]
  },
  {
   "cell_type": "markdown",
   "metadata": {},
   "source": [
    "# Clustering"
   ]
  },
  {
   "cell_type": "markdown",
   "metadata": {},
   "source": [
    "The closer the silhouette value is to 1.0 the better the clustering is"
   ]
  },
  {
   "cell_type": "markdown",
   "metadata": {},
   "source": [
    "### Init"
   ]
  },
  {
   "cell_type": "code",
   "execution_count": null,
   "metadata": {},
   "outputs": [],
   "source": [
    "cluster_count=8"
   ]
  },
  {
   "cell_type": "markdown",
   "metadata": {},
   "source": [
    "### Based on first first in preference"
   ]
  },
  {
   "cell_type": "code",
   "execution_count": null,
   "metadata": {},
   "outputs": [],
   "source": [
    "ClustMethod = \"Party\"\n",
    "labels = database[1, indexes]\n",
    "clusters = clusterize(labels, candidates, parties)\n",
    "mean(silhouettes(labels, distances[indexes, indexes]))"
   ]
  },
  {
   "cell_type": "markdown",
   "metadata": {},
   "source": [
    "### K-means"
   ]
  },
  {
   "cell_type": "code",
   "execution_count": null,
   "metadata": {},
   "outputs": [],
   "source": [
    "ClustMethod = \"K-means\"\n",
    "KmeansRes = kmeans(data, cluster_count; maxiter=200)\n",
    "labels = KmeansRes.assignments\n",
    "clusters = clusterize(labels)\n",
    "mean(silhouettes(labels, distances[indexes, indexes]))"
   ]
  },
  {
   "cell_type": "markdown",
   "metadata": {},
   "source": [
    "### Gaussian mixtures"
   ]
  },
  {
   "cell_type": "code",
   "execution_count": null,
   "metadata": {},
   "outputs": [],
   "source": [
    "ClustMethod = \"GM\"\n",
    "data_T = permutedims(data)\n",
    "gm = GaussianMixture(n_components=cluster_count).fit(data_T)\n",
    "labels = gm.predict(data_T) .+ 1\n",
    "clusters = clusterize(labels)\n",
    "mean(silhouettes(labels, distances[indexes, indexes]))"
   ]
  },
  {
   "cell_type": "markdown",
   "metadata": {},
   "source": [
    "## Clustering Validation"
   ]
  },
  {
   "cell_type": "code",
   "execution_count": null,
   "metadata": {},
   "outputs": [],
   "source": [
    "mean(silhouettes(labels, distances[indexes, indexes]))"
   ]
  },
  {
   "cell_type": "markdown",
   "metadata": {},
   "source": [
    "## Clustering visualization"
   ]
  },
  {
   "cell_type": "markdown",
   "metadata": {},
   "source": [
    "Save template clusters for later to match cluster colours based on it"
   ]
  },
  {
   "cell_type": "code",
   "execution_count": null,
   "metadata": {},
   "outputs": [],
   "source": [
    "template = clusters"
   ]
  },
  {
   "cell_type": "code",
   "execution_count": null,
   "metadata": {},
   "outputs": [],
   "source": [
    "unify_labels!(template, clusters)"
   ]
  },
  {
   "cell_type": "code",
   "execution_count": null,
   "metadata": {},
   "outputs": [],
   "source": [
    "visualize(pred, clusters, DimRedMethod, ClustMethod, output=true)"
   ]
  },
  {
   "cell_type": "markdown",
   "metadata": {},
   "source": [
    "### Creating graph out of clustered database"
   ]
  },
  {
   "cell_type": "code",
   "execution_count": null,
   "metadata": {},
   "outputs": [],
   "source": [
    "@time G = createClusteredMetaGraph(g, clusters, labels)"
   ]
  },
  {
   "cell_type": "markdown",
   "metadata": {},
   "source": [
    "## Drawing clustered graph"
   ]
  },
  {
   "cell_type": "code",
   "execution_count": null,
   "metadata": {},
   "outputs": [],
   "source": [
    "@time drawClusteredMetaGraph(G)"
   ]
  },
  {
   "cell_type": "markdown",
   "metadata": {},
   "source": [
    "# Main ________________________________"
   ]
  },
  {
   "cell_type": "code",
   "execution_count": null,
   "metadata": {},
   "outputs": [],
   "source": [
    "using Revise"
   ]
  },
  {
   "cell_type": "code",
   "execution_count": null,
   "metadata": {},
   "outputs": [],
   "source": [
    "using OpinionDiffusion"
   ]
  },
  {
   "cell_type": "code",
   "execution_count": null,
   "metadata": {},
   "outputs": [],
   "source": [
    "@sk_import mixture : GaussianMixture\n",
    "Base.show(io::IO, f::Float64) = @printf(io, \"%1.4f\", f)"
   ]
  },
  {
   "cell_type": "code",
   "execution_count": null,
   "metadata": {},
   "outputs": [],
   "source": [
    "OpinionDiffusion.Plots.PlotlyBackend()"
   ]
  },
  {
   "cell_type": "markdown",
   "metadata": {},
   "source": [
    "Parse input data"
   ]
  },
  {
   "cell_type": "code",
   "execution_count": null,
   "metadata": {},
   "outputs": [],
   "source": [
    "input_filename = \"ED-00001-00000002.toc\"\n",
    "@time parties, candidates, election = parse_data2(input_filename)"
   ]
  },
  {
   "cell_type": "code",
   "execution_count": null,
   "metadata": {},
   "outputs": [],
   "source": [
    "model_config = Dict(\n",
    "    \"weight_func\" => Dict(\n",
    "        \"type\" => \"exp\",\n",
    "        \"base\" => 1/2\n",
    "    ),\n",
    "    \"dist_metric\" => \"L1\",\n",
    "    \"edge_init_func\" => Dict(\n",
    "        \"type\" => \"exp\",\n",
    "        \"base\" => 1/2,\n",
    "        \"offset\" => -6.28\n",
    "    )\n",
    ")"
   ]
  },
  {
   "cell_type": "code",
   "execution_count": null,
   "metadata": {
    "scrolled": false
   },
   "outputs": [],
   "source": [
    "model = Spearman_model(election, length(candidates), model_config)"
   ]
  },
  {
   "cell_type": "code",
   "execution_count": null,
   "metadata": {},
   "outputs": [],
   "source": [
    "model.log_dir"
   ]
  },
  {
   "cell_type": "code",
   "execution_count": null,
   "metadata": {},
   "outputs": [],
   "source": [
    "model = OpinionDiffusion.load(\"logs/2021-06-24_15-40-59/model.jld2\", \"model\")"
   ]
  },
  {
   "cell_type": "code",
   "execution_count": null,
   "metadata": {},
   "outputs": [],
   "source": [
    "exp_config = Dict(\n",
    "    \"sample_size\" => 3000,\n",
    "    \"voter_visualization_config\" => Dict(\n",
    "        \"used\" => true,\n",
    "        \"reduce_dim_config\" => Dict(\n",
    "            \"used\" => true,\n",
    "            \"method\" => \"PCA\",\n",
    "            \"PCA\" => Dict(\n",
    "                \"out_dim\" => 2\n",
    "            ),\n",
    "            \"tsne\" => Dict(\n",
    "                \"out_dim\" => 2,\n",
    "                \"reduce_dims\" => 0,\n",
    "                \"max_iter\" => 3000,\n",
    "                \"perplexity\" => 100.0\n",
    "            )\n",
    "        ),\n",
    "        \"clustering_config\" => Dict(\n",
    "            \"used\" => true,\n",
    "            \"method\" => \"Party\",\n",
    "            \"K-means\" => Dict(\n",
    "                \"cluster_count\" => 8\n",
    "            ),\n",
    "            \"GM\" => Dict(\n",
    "                \"cluster_count\" => 8\n",
    "            )\n",
    "        )\n",
    "    )\n",
    ")"
   ]
  },
  {
   "cell_type": "code",
   "execution_count": 1,
   "metadata": {},
   "outputs": [],
   "source": [
    "using JLD2"
   ]
  },
  {
   "cell_type": "code",
   "execution_count": 2,
   "metadata": {},
   "outputs": [
    {
     "ename": "LoadError",
     "evalue": "UndefVarError: jldsave not defined",
     "output_type": "error",
     "traceback": [
      "UndefVarError: jldsave not defined",
      "",
      "Stacktrace:",
      " [1] top-level scope",
      "   @ In[2]:1",
      " [2] eval",
      "   @ .\\boot.jl:360 [inlined]",
      " [3] include_string(mapexpr::typeof(REPL.softscope), mod::Module, code::String, filename::String)",
      "   @ Base .\\loading.jl:1094"
     ]
    }
   ],
   "source": [
    "methods(jldsave)"
   ]
  },
  {
   "cell_type": "code",
   "execution_count": null,
   "metadata": {},
   "outputs": [],
   "source": [
    "experiment = Experiment(model, candidates, parties, OpinionDiffusion.Plots.PlotlyBackend, exp_config)"
   ]
  },
  {
   "cell_type": "code",
   "execution_count": null,
   "metadata": {},
   "outputs": [],
   "source": [
    "diffusion_config = Dict(\n",
    "        \"diffusions\" => 5,\n",
    "        \"checkpoint\" => 1,\n",
    "        \"voter_diff_config\" => Dict(\n",
    "            \"evolve_vertices\" => 100000,\n",
    "            \"method\" => \"averageAll\"\n",
    "        ),\n",
    "        \"edge_diff_config\" => Dict(\n",
    "            \"evolve_edges\" => 100000,\n",
    "            \"dist_metric\" => \"L1\",\n",
    "            \"edge_diff_func\" => Dict(\n",
    "                \"type\" => \"exp\",\n",
    "                \"base\" => 1/2\n",
    "            )\n",
    "        )\n",
    "    )"
   ]
  },
  {
   "cell_type": "code",
   "execution_count": null,
   "metadata": {},
   "outputs": [],
   "source": [
    "diffusion_metrics = run_experiment!(experiment, candidates, parties, diffusion_config)"
   ]
  },
  {
   "cell_type": "code",
   "execution_count": null,
   "metadata": {},
   "outputs": [],
   "source": [
    "OpinionDiffusion.visualize_metrics(experiment, candidates, parties)"
   ]
  },
  {
   "cell_type": "code",
   "execution_count": null,
   "metadata": {},
   "outputs": [],
   "source": [
    "using Reexport\n",
    "using Interact"
   ]
  },
  {
   "cell_type": "code",
   "execution_count": null,
   "metadata": {},
   "outputs": [],
   "source": [
    "\n",
    "px=widget(0:0.01:.3, label=\"px\")\n",
    "hbox(px)"
   ]
  },
  {
   "cell_type": "code",
   "execution_count": null,
   "metadata": {},
   "outputs": [],
   "source": [
    "OpinionDiffusion.plot(experiment.visualizations.voter_visualizations[step], experiment.visualizations.degree_distributions[step], layout = (2, 1), size = (980,1200))"
   ]
  },
  {
   "cell_type": "code",
   "execution_count": null,
   "metadata": {},
   "outputs": [],
   "source": [
    "dist_metric = Euclidean()\n",
    "@time distances = pairwise(distMetric, [voter.opinion for voter in experiment.sampled_voters], dims=2)"
   ]
  },
  {
   "cell_type": "code",
   "execution_count": null,
   "metadata": {},
   "outputs": [],
   "source": [
    "labels = [voter.label for voter in experiment.sampled_voters]\n",
    "mean(silhouettes(labels, distances))"
   ]
  },
  {
   "cell_type": "code",
   "execution_count": null,
   "metadata": {},
   "outputs": [],
   "source": [
    "logdir = \"logs/\" * Dates.format(now(), \"yyyy-mm-dd_HH-MM-SS\")\n",
    "expCounter = 1\n",
    "mkpath(logdir)"
   ]
  },
  {
   "cell_type": "code",
   "execution_count": null,
   "metadata": {},
   "outputs": [],
   "source": [
    "weightFunc = parseFunction(initConfig[\"weightFunc\"])\n",
    "weights = map(weightFunc, 1.0:length(candidates))\n",
    "weights = translateRange(minimum(weights), maximum(weights), 0.0, 1.0, weights)"
   ]
  },
  {
   "cell_type": "code",
   "execution_count": null,
   "metadata": {},
   "outputs": [],
   "source": [
    "distMetric = parseMetric(initConfig[\"distMetric\"])\n",
    "@time distances = pairwise(distMetric, opinions, dims=2)"
   ]
  }
 ],
 "metadata": {
  "@webio": {
   "lastCommId": null,
   "lastKernelId": null
  },
  "kernelspec": {
   "display_name": "Julia 1.6.1",
   "language": "julia",
   "name": "julia-1.6"
  },
  "language_info": {
   "file_extension": ".jl",
   "mimetype": "application/julia",
   "name": "julia",
   "version": "1.6.1"
  }
 },
 "nbformat": 4,
 "nbformat_minor": 4
}
