{
 "cells": [
  {
   "cell_type": "markdown",
   "metadata": {},
   "source": [
    "# Prerequisites"
   ]
  },
  {
   "cell_type": "markdown",
   "metadata": {},
   "source": [
    "Precompile packages and include project source files"
   ]
  },
  {
   "cell_type": "markdown",
   "metadata": {},
   "source": [
    "# Dimensionality reduction"
   ]
  },
  {
   "cell_type": "markdown",
   "metadata": {},
   "source": [
    "### Init"
   ]
  },
  {
   "cell_type": "markdown",
   "metadata": {},
   "source": [
    "Sample encoded database for better performance"
   ]
  },
  {
   "cell_type": "code",
   "execution_count": null,
   "metadata": {},
   "outputs": [],
   "source": [
    "dataSize = 3000\n",
    "indexes = sample(1:size(encodedDB, 2), dataSize, replace=false)\n",
    "data = getCol(encodedDB, indexes)\n",
    "outDim = 2"
   ]
  },
  {
   "cell_type": "markdown",
   "metadata": {},
   "source": [
    "Use the whole database"
   ]
  },
  {
   "cell_type": "code",
   "execution_count": null,
   "metadata": {},
   "outputs": [],
   "source": [
    "indexes = 1:size(encodedDB, 2)\n",
    "data = encodedDB\n",
    "outdim = 2"
   ]
  },
  {
   "cell_type": "markdown",
   "metadata": {},
   "source": [
    "### PCA"
   ]
  },
  {
   "cell_type": "code",
   "execution_count": null,
   "metadata": {},
   "outputs": [],
   "source": [
    "DimRedMethod = \"PCA\"\n",
    "model = fit(PCA, data; maxoutdim=outDim)\n",
    "pred = MultivariateStats.transform(model, data)"
   ]
  },
  {
   "cell_type": "markdown",
   "metadata": {},
   "source": [
    "### T-sne"
   ]
  },
  {
   "cell_type": "code",
   "execution_count": null,
   "metadata": {},
   "outputs": [],
   "source": [
    "DimRedMethod = \"T-sne\"\n",
    "reduce_dims = 0\n",
    "max_iter = 3000\n",
    "perplexity = 100.0\n",
    "pred = permutedims(tsne(distances[indexes, indexes], distance=true, outDim, reduce_dims, max_iter, perplexity))"
   ]
  },
  {
   "cell_type": "markdown",
   "metadata": {},
   "source": [
    "# Clustering"
   ]
  },
  {
   "cell_type": "markdown",
   "metadata": {},
   "source": [
    "The closer the silhouette value is to 1.0 the better the clustering is"
   ]
  },
  {
   "cell_type": "markdown",
   "metadata": {},
   "source": [
    "### Init"
   ]
  },
  {
   "cell_type": "code",
   "execution_count": null,
   "metadata": {},
   "outputs": [],
   "source": [
    "cluster_count=8"
   ]
  },
  {
   "cell_type": "markdown",
   "metadata": {},
   "source": [
    "### Based on first first in preference"
   ]
  },
  {
   "cell_type": "code",
   "execution_count": null,
   "metadata": {},
   "outputs": [],
   "source": [
    "ClustMethod = \"Party\"\n",
    "labels = database[1, indexes]\n",
    "clusters = clusterize(labels, candidates, parties)\n",
    "mean(silhouettes(labels, distances[indexes, indexes]))"
   ]
  },
  {
   "cell_type": "markdown",
   "metadata": {},
   "source": [
    "### K-means"
   ]
  },
  {
   "cell_type": "code",
   "execution_count": null,
   "metadata": {},
   "outputs": [],
   "source": [
    "ClustMethod = \"K-means\"\n",
    "KmeansRes = kmeans(data, cluster_count; maxiter=200)\n",
    "labels = KmeansRes.assignments\n",
    "clusters = clusterize(labels)\n",
    "mean(silhouettes(labels, distances[indexes, indexes]))"
   ]
  },
  {
   "cell_type": "markdown",
   "metadata": {},
   "source": [
    "### Gaussian mixtures"
   ]
  },
  {
   "cell_type": "code",
   "execution_count": null,
   "metadata": {},
   "outputs": [],
   "source": [
    "ClustMethod = \"GM\"\n",
    "data_T = permutedims(data)\n",
    "gm = GaussianMixture(n_components=cluster_count).fit(data_T)\n",
    "labels = gm.predict(data_T) .+ 1\n",
    "clusters = clusterize(labels)\n",
    "mean(silhouettes(labels, distances[indexes, indexes]))"
   ]
  },
  {
   "cell_type": "markdown",
   "metadata": {},
   "source": [
    "## Clustering Validation"
   ]
  },
  {
   "cell_type": "code",
   "execution_count": null,
   "metadata": {},
   "outputs": [],
   "source": [
    "mean(silhouettes(labels, distances[indexes, indexes]))"
   ]
  },
  {
   "cell_type": "markdown",
   "metadata": {},
   "source": [
    "## Clustering visualization"
   ]
  },
  {
   "cell_type": "markdown",
   "metadata": {},
   "source": [
    "Save template clusters for later to match cluster colours based on it"
   ]
  },
  {
   "cell_type": "code",
   "execution_count": null,
   "metadata": {},
   "outputs": [],
   "source": [
    "template = clusters"
   ]
  },
  {
   "cell_type": "code",
   "execution_count": null,
   "metadata": {},
   "outputs": [],
   "source": [
    "unify_labels!(template, clusters)"
   ]
  },
  {
   "cell_type": "code",
   "execution_count": null,
   "metadata": {},
   "outputs": [],
   "source": [
    "visualize(pred, clusters, DimRedMethod, ClustMethod, output=true)"
   ]
  },
  {
   "cell_type": "markdown",
   "metadata": {},
   "source": [
    "### Creating graph out of clustered database"
   ]
  },
  {
   "cell_type": "code",
   "execution_count": null,
   "metadata": {},
   "outputs": [],
   "source": [
    "@time G = createClusteredMetaGraph(g, clusters, labels)"
   ]
  },
  {
   "cell_type": "markdown",
   "metadata": {},
   "source": [
    "## Drawing clustered graph"
   ]
  },
  {
   "cell_type": "code",
   "execution_count": null,
   "metadata": {},
   "outputs": [],
   "source": [
    "@time drawClusteredMetaGraph(G)"
   ]
  },
  {
   "cell_type": "markdown",
   "metadata": {},
   "source": [
    "## Experiment"
   ]
  },
  {
   "cell_type": "code",
   "execution_count": 1,
   "metadata": {},
   "outputs": [],
   "source": [
    "using Revise"
   ]
  },
  {
   "cell_type": "code",
   "execution_count": 2,
   "metadata": {},
   "outputs": [
    {
     "name": "stderr",
     "output_type": "stream",
     "text": [
      "┌ Info: Precompiling OpinionDiffusion [8a824c69-2f4a-47fa-94c7-8095e16cc636]\n",
      "└ @ Base loading.jl:1317\n",
      "WARNING: using Distances.pairwise in module OpinionDiffusion conflicts with an existing identifier.\n",
      "WARNING: Method definition visualize_voters(Any, Any, Any, Any, Any, Any) in module OpinionDiffusion at D:\\OneDrive\\MFF UK\\bakalarka\\OpinionDiffusion\\src\\visualization.jl:8 overwritten at D:\\OneDrive\\MFF UK\\bakalarka\\OpinionDiffusion\\src\\visualization.jl:15.\n",
      "  ** incremental compilation may be fatally broken for this module **\n",
      "\n"
     ]
    },
    {
     "data": {
      "text/html": [
       "<script>\n",
       "// Immediately-invoked-function-expression to avoid global variables.\n",
       "(function() {\n",
       "    var warning_div = document.getElementById(\"webio-warning-9036267478821983\");\n",
       "    var hide = function () {\n",
       "        var script = document.getElementById(\"webio-setup-4169692983914185926\");\n",
       "        var parent = script && script.parentElement;\n",
       "        var grandparent = parent && parent.parentElement;\n",
       "        if (grandparent) {\n",
       "            grandparent.style.display = \"none\";\n",
       "        }\n",
       "        warning_div.style.display = \"none\";\n",
       "    };\n",
       "    if (typeof Jupyter !== \"undefined\") {\n",
       "        console.log(\"WebIO detected Jupyter notebook environment.\");\n",
       "        // Jupyter notebook.\n",
       "        var extensions = (\n",
       "            Jupyter\n",
       "            && Jupyter.notebook.config.data\n",
       "            && Jupyter.notebook.config.data.load_extensions\n",
       "        );\n",
       "        if (extensions && extensions[\"webio-jupyter-notebook\"]) {\n",
       "            // Extension already loaded.\n",
       "            console.log(\"Jupyter WebIO nbextension detected; not loading ad-hoc.\");\n",
       "            hide();\n",
       "            return;\n",
       "        }\n",
       "    } else if (window.location.pathname.includes(\"/lab\")) {\n",
       "        // Guessing JupyterLa\n",
       "        console.log(\"Jupyter Lab detected; make sure the @webio/jupyter-lab-provider labextension is installed.\");\n",
       "        hide();\n",
       "        return;\n",
       "    }\n",
       "})();\n",
       "\n",
       "</script>\n",
       "<p\n",
       "    id=\"webio-warning-9036267478821983\"\n",
       "    class=\"output_text output_stderr\"\n",
       "    style=\"padding: 1em; font-weight: bold;\"\n",
       ">\n",
       "    Unable to load WebIO. Please make sure WebIO works for your Jupyter client.\n",
       "    For troubleshooting, please see <a href=\"https://juliagizmos.github.io/WebIO.jl/latest/providers/ijulia/\">\n",
       "    the WebIO/IJulia documentation</a>.\n",
       "    <!-- TODO: link to installation docs. -->\n",
       "</p>\n"
      ],
      "text/plain": [
       "HTML{String}(\"<script>\\n// Immediately-invoked-function-expression to avoid global variables.\\n(function() {\\n    var warning_div = document.getElementById(\\\"webio-warning-9036267478821983\\\");\\n    var hide = function () {\\n        var script = document.getElementById(\\\"webio-setup-4169692983914185926\\\");\\n        var parent = script && script.parentElement;\\n        var grandparent = parent && parent.parentElement;\\n        if (grandparent) {\\n            grandparent.style.display = \\\"none\\\";\\n        }\\n        warning_div.style.display = \\\"none\\\";\\n    };\\n    if (typeof Jupyter !== \\\"undefined\\\") {\\n        console.log(\\\"WebIO detected Jupyter notebook environment.\\\");\\n        // Jupyter notebook.\\n        var extensions = (\\n            Jupyter\\n            && Jupyter.notebook.config.data\\n            && Jupyter.notebook.config.data.load_extensions\\n        );\\n        if (extensions && extensions[\\\"webio-jupyter-notebook\\\"]) {\\n            // Extension already loaded.\\n            console.log(\\\"Jupyter WebIO nbextension detected; not loading ad-hoc.\\\");\\n            hide();\\n            return;\\n        }\\n    } else if (window.location.pathname.includes(\\\"/lab\\\")) {\\n        // Guessing JupyterLa\\n        console.log(\\\"Jupyter Lab detected; make sure the @webio/jupyter-lab-provider labextension is installed.\\\");\\n        hide();\\n        return;\\n    }\\n})();\\n\\n</script>\\n<p\\n    id=\\\"webio-warning-9036267478821983\\\"\\n    class=\\\"output_text output_stderr\\\"\\n    style=\\\"padding: 1em; font-weight: bold;\\\"\\n>\\n    Unable to load WebIO. Please make sure WebIO works for your Jupyter client.\\n    For troubleshooting, please see <a href=\\\"https://juliagizmos.github.io/WebIO.jl/latest/providers/ijulia/\\\">\\n    the WebIO/IJulia documentation</a>.\\n    <!-- TODO: link to installation docs. -->\\n</p>\\n\")"
      ]
     },
     "metadata": {},
     "output_type": "display_data"
    }
   ],
   "source": [
    "using OpinionDiffusion"
   ]
  },
  {
   "cell_type": "code",
   "execution_count": null,
   "metadata": {},
   "outputs": [],
   "source": [
    "@sk_import mixture : GaussianMixture\n",
    "Base.show(io::IO, f::Float64) = @printf(io, \"%1.4f\", f)"
   ]
  },
  {
   "cell_type": "markdown",
   "metadata": {},
   "source": [
    "Parse input data"
   ]
  },
  {
   "cell_type": "code",
   "execution_count": 3,
   "metadata": {},
   "outputs": [
    {
     "name": "stdout",
     "output_type": "stream",
     "text": [
      "  0.298200 seconds (568.53 k allocations: 55.977 MiB, 60.74% gc time, 4.45% compilation time)\n"
     ]
    },
    {
     "data": {
      "text/plain": [
       "([\"G.P.\", \"Lab\", \"F.F.\", \"S.P.\", \"S.F.\", \"P.D.\", \"Csp\", \"F.G.\"], OpinionDiffusion.Candidate[OpinionDiffusion.Candidate(\"Robert Bonnie\", 1), OpinionDiffusion.Candidate(\"Joan Burton\", 2), OpinionDiffusion.Candidate(\"Deirdre Doherty Ryan\", 3), OpinionDiffusion.Candidate(\"Joe Higgins\", 4), OpinionDiffusion.Candidate(\"Brian Lenihan\", 3), OpinionDiffusion.Candidate(\"Mary Lou Mc Donald\", 5), OpinionDiffusion.Candidate(\"Tom Morrissey\", 6), OpinionDiffusion.Candidate(\"John Thomas Smyth C.C.\", 7), OpinionDiffusion.Candidate(\"Sheila Terry\", 8)], [[[5], [3], [7], [1, 2, 4, 6, 8, 9]], [[5], [3], [7], [1, 2, 4, 6, 8, 9]], [[5], [3], [7], [1, 2, 4, 6, 8, 9]], [[5], [3], [7], [1, 2, 4, 6, 8, 9]], [[5], [3], [7], [1, 2, 4, 6, 8, 9]], [[5], [3], [7], [1, 2, 4, 6, 8, 9]], [[5], [3], [7], [1, 2, 4, 6, 8, 9]], [[5], [3], [7], [1, 2, 4, 6, 8, 9]], [[5], [3], [7], [1, 2, 4, 6, 8, 9]], [[5], [3], [7], [1, 2, 4, 6, 8, 9]]  …  [[7], [5], [4], [3], [2], [1], [9], [8], [6]], [[4], [2], [7], [9], [3], [5], [1, 6, 8]], [[9], [4], [5], [7], [6], [1, 2, 3, 8]], [[4], [1], [7], [9], [2], [6], [3], [5], [8]], [[1], [5], [2], [4], [9], [3], [8], [6], [7]], [[4], [2], [9], [7], [3], [1], [8], [6], [5]], [[2], [4], [1], [5], [3], [6], [9], [7], [8]], [[5], [3], [9], [2], [4], [7], [1, 6, 8]], [[5], [7], [2], [9], [6], [3], [4], [8], [1]], [[2], [4], [7], [9], [5], [3], [1], [6, 8]]])"
      ]
     },
     "execution_count": 3,
     "metadata": {},
     "output_type": "execute_result"
    }
   ],
   "source": [
    "input_filename = \"ED-00001-00000002.toc\"\n",
    "@time parties, candidates, election = parse_data2(input_filename)"
   ]
  },
  {
   "cell_type": "code",
   "execution_count": 36,
   "metadata": {},
   "outputs": [
    {
     "data": {
      "text/plain": [
       "Dict{String, Any} with 3 entries:\n",
       "  \"weight_func\"    => Dict{String, Any}(\"power\"=>2, \"type\"=>\"power\")\n",
       "  \"dist_metric\"    => \"L1\"\n",
       "  \"edge_init_func\" => Dict{String, Any}(\"base\"=>0.5, \"offset\"=>-6.28, \"type\"=>\"…"
      ]
     },
     "execution_count": 36,
     "metadata": {},
     "output_type": "execute_result"
    }
   ],
   "source": [
    "model_config = Dict(\n",
    "    \"weight_func\" => Dict(\n",
    "        \"type\" => \"power\",\n",
    "        \"power\" => 2\n",
    "    ),\n",
    "    \"dist_metric\" => \"L1\",\n",
    "    \"edge_init_func\" => Dict(\n",
    "        \"type\" => \"exp\",\n",
    "        \"base\" => 1/2,\n",
    "        \"offset\" => -6.28\n",
    "    )\n",
    ")"
   ]
  },
  {
   "cell_type": "code",
   "execution_count": 37,
   "metadata": {
    "scrolled": true
   },
   "outputs": [
    {
     "name": "stdout",
     "output_type": "stream",
     "text": [
      "Initializing voters:\n",
      "  0.169026 seconds (68.93 k allocations: 7.620 MiB, 91.81% compilation time)\n",
      "Initializing edges:\n",
      " 43.188127 seconds (15 allocations: 1.001 MiB)\n",
      "Initializing graph:\n",
      "23350\n",
      "29988\n",
      "  0.052825 seconds (64.51 k allocations: 5.057 MiB, 86.38% compilation time)\n",
      "Initializing logging\n",
      "  3.738584 seconds (5.63 M allocations: 308.532 MiB, 1.00% gc time, 6.19% compilation time)\n"
     ]
    },
    {
     "data": {
      "text/plain": [
       "Spearman_model(OpinionDiffusion.Spearman_voter[OpinionDiffusion.Spearman_voter(1, [45.0, 45.0, 4.0, 45.0, 1.0, 45.0, 9.0, 45.0, 45.0], 0.37447141106860493, 0.5079226162019765), OpinionDiffusion.Spearman_voter(2, [45.0, 45.0, 4.0, 45.0, 1.0, 45.0, 9.0, 45.0, 45.0], 0.556027797060845, 0.43389700471396647), OpinionDiffusion.Spearman_voter(3, [45.0, 45.0, 4.0, 45.0, 1.0, 45.0, 9.0, 45.0, 45.0], 0.3342854251199012, 0.5075700203042157), OpinionDiffusion.Spearman_voter(4, [45.0, 45.0, 4.0, 45.0, 1.0, 45.0, 9.0, 45.0, 45.0], 0.49357803060544597, 0.3955672413304974), OpinionDiffusion.Spearman_voter(5, [45.0, 45.0, 4.0, 45.0, 1.0, 45.0, 9.0, 45.0, 45.0], 0.5282198436306692, 0.5301129227689705), OpinionDiffusion.Spearman_voter(6, [45.0, 45.0, 4.0, 45.0, 1.0, 45.0, 9.0, 45.0, 45.0], 0.5206773887244525, 0.4182733644879518), OpinionDiffusion.Spearman_voter(7, [45.0, 45.0, 4.0, 45.0, 1.0, 45.0, 9.0, 45.0, 45.0], 0.5793319172059563, 0.4510450292813902), OpinionDiffusion.Spearman_voter(8, [45.0, 45.0, 4.0, 45.0, 1.0, 45.0, 9.0, 45.0, 45.0], 0.5627263903598809, 0.41270990226633797), OpinionDiffusion.Spearman_voter(9, [45.0, 45.0, 4.0, 45.0, 1.0, 45.0, 9.0, 45.0, 45.0], 0.586642787751109, 0.6323638064847661), OpinionDiffusion.Spearman_voter(10, [45.0, 45.0, 4.0, 45.0, 1.0, 45.0, 9.0, 45.0, 45.0], 0.43115557600249627, 0.4280064926961823)  …  OpinionDiffusion.Spearman_voter(29979, [36.0, 25.0, 16.0, 9.0, 4.0, 81.0, 1.0, 64.0, 49.0], 0.3586984064217387, 0.45756961328292856), OpinionDiffusion.Spearman_voter(29980, [58.5, 4.0, 25.0, 1.0, 36.0, 58.5, 9.0, 58.5, 16.0], 0.43073868886654837, 0.43885049166400397), OpinionDiffusion.Spearman_voter(29981, [53.0, 53.0, 53.0, 4.0, 9.0, 25.0, 16.0, 53.0, 1.0], 0.4653536647857588, 0.3869787248494556), OpinionDiffusion.Spearman_voter(29982, [4.0, 25.0, 49.0, 1.0, 64.0, 36.0, 9.0, 81.0, 16.0], 0.2979075269138145, 0.7056290311783836), OpinionDiffusion.Spearman_voter(29983, [1.0, 9.0, 36.0, 16.0, 4.0, 64.0, 81.0, 49.0, 25.0], 0.44880762696757087, 0.4408447351081967), OpinionDiffusion.Spearman_voter(29984, [36.0, 4.0, 25.0, 1.0, 81.0, 64.0, 16.0, 49.0, 9.0], 0.39916241271579694, 0.5680130877470848), OpinionDiffusion.Spearman_voter(29985, [9.0, 1.0, 25.0, 4.0, 16.0, 36.0, 64.0, 81.0, 49.0], 0.5541354645002292, 0.5335103476915956), OpinionDiffusion.Spearman_voter(29986, [58.5, 16.0, 4.0, 25.0, 1.0, 58.5, 36.0, 58.5, 9.0], 0.5126428043868181, 0.46971606615442757), OpinionDiffusion.Spearman_voter(29987, [81.0, 9.0, 36.0, 49.0, 1.0, 25.0, 4.0, 64.0, 16.0], 0.6951938414825114, 0.6305481688444527), OpinionDiffusion.Spearman_voter(29988, [49.0, 1.0, 36.0, 4.0, 25.0, 65.0, 9.0, 65.0, 16.0], 0.49901809258420854, 0.3369278760514465)], {29988, 31050} undirected simple Int64 graph, \"logs/2021-06-15_12-51-17\", [1])"
      ]
     },
     "execution_count": 37,
     "metadata": {},
     "output_type": "execute_result"
    }
   ],
   "source": [
    "model = Spearman_model(election, length(candidates), model_config)"
   ]
  },
  {
   "cell_type": "code",
   "execution_count": 6,
   "metadata": {},
   "outputs": [
    {
     "data": {
      "text/plain": [
       "Spearman_model(OpinionDiffusion.Spearman_voter[OpinionDiffusion.Spearman_voter(1, [45.0, 45.0, 4.0, 45.0, 1.0, 45.0, 9.0, 45.0, 45.0], 0.39557550249521234, 0.49983517683269973), OpinionDiffusion.Spearman_voter(2, [45.0, 45.0, 4.0, 45.0, 1.0, 45.0, 9.0, 45.0, 45.0], 0.514964532814092, 0.4239904796224007), OpinionDiffusion.Spearman_voter(3, [45.0, 45.0, 4.0, 45.0, 1.0, 45.0, 9.0, 45.0, 45.0], 0.6720151959600401, 0.44162497206844753), OpinionDiffusion.Spearman_voter(4, [45.0, 45.0, 4.0, 45.0, 1.0, 45.0, 9.0, 45.0, 45.0], 0.5257990006411783, 0.549032723721798), OpinionDiffusion.Spearman_voter(5, [45.0, 45.0, 4.0, 45.0, 1.0, 45.0, 9.0, 45.0, 45.0], 0.5218320634747935, 0.5414160993101209), OpinionDiffusion.Spearman_voter(6, [45.0, 45.0, 4.0, 45.0, 1.0, 45.0, 9.0, 45.0, 45.0], 0.6055845598713583, 0.45168130778516713), OpinionDiffusion.Spearman_voter(7, [45.0, 45.0, 4.0, 45.0, 1.0, 45.0, 9.0, 45.0, 45.0], 0.33415930329498794, 0.5989808093499354), OpinionDiffusion.Spearman_voter(8, [45.0, 45.0, 4.0, 45.0, 1.0, 45.0, 9.0, 45.0, 45.0], 0.4027791142132173, 0.49990712506489304), OpinionDiffusion.Spearman_voter(9, [45.0, 45.0, 4.0, 45.0, 1.0, 45.0, 9.0, 45.0, 45.0], 0.5294251615322493, 0.6645371877091976), OpinionDiffusion.Spearman_voter(10, [45.0, 45.0, 4.0, 45.0, 1.0, 45.0, 9.0, 45.0, 45.0], 0.6988900518818134, 0.5614962079582366)  …  OpinionDiffusion.Spearman_voter(29979, [36.0, 25.0, 16.0, 9.0, 4.0, 81.0, 1.0, 64.0, 49.0], 0.6005018095393706, 0.48722514203275724), OpinionDiffusion.Spearman_voter(29980, [58.5, 4.0, 25.0, 1.0, 36.0, 58.5, 9.0, 58.5, 16.0], 0.573038447692063, 0.41730295770323067), OpinionDiffusion.Spearman_voter(29981, [53.0, 53.0, 53.0, 4.0, 9.0, 25.0, 16.0, 53.0, 1.0], 0.6572653850154467, 0.5732009487532682), OpinionDiffusion.Spearman_voter(29982, [4.0, 25.0, 49.0, 1.0, 64.0, 36.0, 9.0, 81.0, 16.0], 0.3965685146343534, 0.48353006655089437), OpinionDiffusion.Spearman_voter(29983, [1.0, 9.0, 36.0, 16.0, 4.0, 64.0, 81.0, 49.0, 25.0], 0.47551303059167305, 0.5043766022352961), OpinionDiffusion.Spearman_voter(29984, [36.0, 4.0, 25.0, 1.0, 81.0, 64.0, 16.0, 49.0, 9.0], 0.49203960815170966, 0.3729535346530637), OpinionDiffusion.Spearman_voter(29985, [9.0, 1.0, 25.0, 4.0, 16.0, 36.0, 64.0, 81.0, 49.0], 0.631599879614921, 0.4563450961136694), OpinionDiffusion.Spearman_voter(29986, [58.5, 16.0, 4.0, 25.0, 1.0, 58.5, 36.0, 58.5, 9.0], 0.4488719476301821, 0.555101335509953), OpinionDiffusion.Spearman_voter(29987, [81.0, 9.0, 36.0, 49.0, 1.0, 25.0, 4.0, 64.0, 16.0], 0.5056747940654204, 0.33131266949240556), OpinionDiffusion.Spearman_voter(29988, [49.0, 1.0, 36.0, 4.0, 25.0, 65.0, 9.0, 65.0, 16.0], 0.5030809858252966, 0.5282422670102748)], {28001, 31033} undirected simple Int64 graph, \"logs/2021-06-15_10-46-57\", [1])"
      ]
     },
     "execution_count": 6,
     "metadata": {},
     "output_type": "execute_result"
    }
   ],
   "source": [
    "model = OpinionDiffusion.load(\"logs/2021-06-15_10-46-57/model.jld2\", \"model\")"
   ]
  },
  {
   "cell_type": "code",
   "execution_count": 39,
   "metadata": {},
   "outputs": [
    {
     "data": {
      "text/plain": [
       "Dict{String, Any} with 3 entries:\n",
       "  \"reduce_dim_config\" => Dict{String, Any}(\"method\"=>\"PCA\", \"used\"=>true, \"tsne…\n",
       "  \"sample_size\"       => 3000\n",
       "  \"clustering_config\" => Dict{String, Any}(\"method\"=>\"Party\", \"used\"=>true, \"GM…"
      ]
     },
     "execution_count": 39,
     "metadata": {},
     "output_type": "execute_result"
    }
   ],
   "source": [
    "exp_config = Dict(\n",
    "    \"sample_size\" => 3000,\n",
    "    \"reduce_dim_config\" => Dict(\n",
    "        \"used\" => true,\n",
    "        \"method\" => \"PCA\",\n",
    "        \"PCA\" => Dict(\n",
    "            \"out_dim\" => 2\n",
    "        ),\n",
    "        \"tsne\" => Dict(\n",
    "            \"out_dim\" => 2,\n",
    "            \"reduce_dims\" => 0,\n",
    "            \"max_iter\" => 3000,\n",
    "            \"perplexity\" => 100.0\n",
    "        )\n",
    "    ),\n",
    "    \"clustering_config\" => Dict(\n",
    "        \"used\" => true,\n",
    "        \"method\" => \"Party\",\n",
    "        \"K-means\" => Dict(\n",
    "            \"cluster_count\" => 8\n",
    "        ),\n",
    "        \"GM\" => Dict(\n",
    "            \"cluster_count\" => 8\n",
    "        )\n",
    "    )\n",
    ")"
   ]
  },
  {
   "cell_type": "code",
   "execution_count": 41,
   "metadata": {},
   "outputs": [
    {
     "data": {
      "text/plain": [
       "Experiment(Spearman_model(OpinionDiffusion.Spearman_voter[OpinionDiffusion.Spearman_voter(1, [45.0, 45.0, 4.0, 45.0, 1.0, 45.0, 9.0, 45.0, 45.0], 0.37447141106860493, 0.5079226162019765), OpinionDiffusion.Spearman_voter(2, [45.0, 45.0, 4.0, 45.0, 1.0, 45.0, 9.0, 45.0, 45.0], 0.556027797060845, 0.43389700471396647), OpinionDiffusion.Spearman_voter(3, [45.0, 45.0, 4.0, 45.0, 1.0, 45.0, 9.0, 45.0, 45.0], 0.3342854251199012, 0.5075700203042157), OpinionDiffusion.Spearman_voter(4, [45.0, 45.0, 4.0, 45.0, 1.0, 45.0, 9.0, 45.0, 45.0], 0.49357803060544597, 0.3955672413304974), OpinionDiffusion.Spearman_voter(5, [45.0, 45.0, 4.0, 45.0, 1.0, 45.0, 9.0, 45.0, 45.0], 0.5282198436306692, 0.5301129227689705), OpinionDiffusion.Spearman_voter(6, [45.0, 45.0, 4.0, 45.0, 1.0, 45.0, 9.0, 45.0, 45.0], 0.5206773887244525, 0.4182733644879518), OpinionDiffusion.Spearman_voter(7, [45.0, 45.0, 4.0, 45.0, 1.0, 45.0, 9.0, 45.0, 45.0], 0.5793319172059563, 0.4510450292813902), OpinionDiffusion.Spearman_voter(8, [45.0, 45.0, 4.0, 45.0, 1.0, 45.0, 9.0, 45.0, 45.0], 0.5627263903598809, 0.41270990226633797), OpinionDiffusion.Spearman_voter(9, [45.0, 45.0, 4.0, 45.0, 1.0, 45.0, 9.0, 45.0, 45.0], 0.586642787751109, 0.6323638064847661), OpinionDiffusion.Spearman_voter(10, [45.0, 45.0, 4.0, 45.0, 1.0, 45.0, 9.0, 45.0, 45.0], 0.43115557600249627, 0.4280064926961823)  …  OpinionDiffusion.Spearman_voter(29979, [36.0, 25.0, 16.0, 9.0, 4.0, 81.0, 1.0, 64.0, 49.0], 0.3586984064217387, 0.45756961328292856), OpinionDiffusion.Spearman_voter(29980, [58.5, 4.0, 25.0, 1.0, 36.0, 58.5, 9.0, 58.5, 16.0], 0.43073868886654837, 0.43885049166400397), OpinionDiffusion.Spearman_voter(29981, [53.0, 53.0, 53.0, 4.0, 9.0, 25.0, 16.0, 53.0, 1.0], 0.4653536647857588, 0.3869787248494556), OpinionDiffusion.Spearman_voter(29982, [4.0, 25.0, 49.0, 1.0, 64.0, 36.0, 9.0, 81.0, 16.0], 0.2979075269138145, 0.7056290311783836), OpinionDiffusion.Spearman_voter(29983, [1.0, 9.0, 36.0, 16.0, 4.0, 64.0, 81.0, 49.0, 25.0], 0.44880762696757087, 0.4408447351081967), OpinionDiffusion.Spearman_voter(29984, [36.0, 4.0, 25.0, 1.0, 81.0, 64.0, 16.0, 49.0, 9.0], 0.39916241271579694, 0.5680130877470848), OpinionDiffusion.Spearman_voter(29985, [9.0, 1.0, 25.0, 4.0, 16.0, 36.0, 64.0, 81.0, 49.0], 0.5541354645002292, 0.5335103476915956), OpinionDiffusion.Spearman_voter(29986, [58.5, 16.0, 4.0, 25.0, 1.0, 58.5, 36.0, 58.5, 9.0], 0.5126428043868181, 0.46971606615442757), OpinionDiffusion.Spearman_voter(29987, [81.0, 9.0, 36.0, 49.0, 1.0, 25.0, 4.0, 64.0, 16.0], 0.6951938414825114, 0.6305481688444527), OpinionDiffusion.Spearman_voter(29988, [49.0, 1.0, 36.0, 4.0, 25.0, 65.0, 9.0, 65.0, 16.0], 0.49901809258420854, 0.3369278760514465)], {29988, 31050} undirected simple Int64 graph, \"logs/2021-06-15_12-51-17\", [2]), [\"G.P.\", \"Lab\", \"F.F.\", \"S.P.\", \"S.F.\", \"P.D.\", \"Csp\", \"F.G.\"], OpinionDiffusion.Candidate[OpinionDiffusion.Candidate(\"Robert Bonnie\", 1), OpinionDiffusion.Candidate(\"Joan Burton\", 2), OpinionDiffusion.Candidate(\"Deirdre Doherty Ryan\", 3), OpinionDiffusion.Candidate(\"Joe Higgins\", 4), OpinionDiffusion.Candidate(\"Brian Lenihan\", 3), OpinionDiffusion.Candidate(\"Mary Lou Mc Donald\", 5), OpinionDiffusion.Candidate(\"Tom Morrissey\", 6), OpinionDiffusion.Candidate(\"John Thomas Smyth C.C.\", 7), OpinionDiffusion.Candidate(\"Sheila Terry\", 8)], [17590, 7330, 1152, 16226, 19575, 2926, 19925, 29385, 906, 1401  …  17836, 4639, 2022, 29287, 14525, 9021, 12492, 654, 23838, 28258], OpinionDiffusion.Spearman_metrics([0], [2.070828331332533], [33], [[2.494331065759637, 12.705082032813126, 7.669734560490863, 21.481926103774843, 26.964118980925704, 8.016539949313058, 7.903161264505802, 0.44684540482859814, 12.318260637588368]], [[9.291123856950186, 13.08759614957094, 11.391176841106814, 13.325700650630623, 14.079150178589956, 9.43483875031494, 11.373669838305693, 6.282929838602108, 11.733813895928742]], [[1.0, 6.0, 4.0, 7.0, 8.0, 2.0, 3.0, 0.0, 5.0]]), \"logs/2021-06-15_12-51-17/experiment_1\", [1])"
      ]
     },
     "execution_count": 41,
     "metadata": {},
     "output_type": "execute_result"
    }
   ],
   "source": [
    "experiment = Experiment(model, parties, candidates, exp_config)"
   ]
  },
  {
   "cell_type": "code",
   "execution_count": 14,
   "metadata": {},
   "outputs": [
    {
     "name": "stdout",
     "output_type": "stream",
     "text": [
      "OpinionDiffusion.Spearman_metrics([0], [2.21656369415378], [31], [[2.494331065759637, 12.705082032813126, 7.669734560490863, 21.481926103774843, 26.964118980925704, 8.016539949313058, 7.903161264505802, 0.44684540482859814, 12.318260637588368]], [[9.291123856950186, 13.08759614957094, 11.391176841106814, 13.325700650630623, 14.079150178589956, 9.43483875031494, 11.373669838305693, 6.282929838602108, 11.733813895928742]], [[1.0, 6.0, 4.0, 7.0, 8.0, 2.0, 3.0, 0.0, 5.0]])"
     ]
    }
   ],
   "source": [
    "show(experiment.diffusion_metrics)"
   ]
  },
  {
   "cell_type": "code",
   "execution_count": 42,
   "metadata": {},
   "outputs": [
    {
     "data": {
      "text/plain": [
       "Dict{String, Any} with 4 entries:\n",
       "  \"edge_diff_config\"  => Dict{String, Any}(\"dist_metric\"=>\"L1\", \"evolve_edges\"=…\n",
       "  \"voter_diff_config\" => Dict{String, Any}(\"method\"=>\"averageAll\", \"evolve_vert…\n",
       "  \"diffusions\"        => 5\n",
       "  \"checkpoint\"        => 1"
      ]
     },
     "execution_count": 42,
     "metadata": {},
     "output_type": "execute_result"
    }
   ],
   "source": [
    "diffusion_config = Dict(\n",
    "        \"diffusions\" => 5,\n",
    "        \"checkpoint\" => 1,\n",
    "        \"voter_diff_config\" => Dict(\n",
    "            \"evolve_vertices\" => 1000,\n",
    "            \"method\" => \"averageAll\"\n",
    "        ),\n",
    "        \"edge_diff_config\" => Dict(\n",
    "            \"evolve_edges\" => 1000,\n",
    "            \"dist_metric\" => \"L1\",\n",
    "            \"edge_diff_func\" => Dict(\n",
    "                \"type\" => \"exp\",\n",
    "                \"base\" => 1/2\n",
    "            )\n",
    "        )\n",
    "    )"
   ]
  },
  {
   "cell_type": "code",
   "execution_count": 34,
   "metadata": {},
   "outputs": [
    {
     "data": {
      "text/plain": [
       "29988"
      ]
     },
     "execution_count": 34,
     "metadata": {},
     "output_type": "execute_result"
    }
   ],
   "source": [
    "OpinionDiffusion.nv(model.social_network)\n",
    "length(model.voters)"
   ]
  },
  {
   "cell_type": "code",
   "execution_count": null,
   "metadata": {},
   "outputs": [
    {
     "name": "stdout",
     "output_type": "stream",
     "text": [
      "Spearman_model\n",
      "Spearman_model\n",
      "Spearman_model\n"
     ]
    }
   ],
   "source": [
    "run_experiment!(experiment, diffusion_config)"
   ]
  },
  {
   "cell_type": "code",
   "execution_count": null,
   "metadata": {},
   "outputs": [],
   "source": [
    "visualizeStatistics(experiment)"
   ]
  },
  {
   "cell_type": "code",
   "execution_count": null,
   "metadata": {},
   "outputs": [],
   "source": [
    "visualizeElections(experiment)"
   ]
  },
  {
   "cell_type": "markdown",
   "metadata": {},
   "source": [
    "### Evaluate clustering"
   ]
  },
  {
   "cell_type": "code",
   "execution_count": null,
   "metadata": {},
   "outputs": [],
   "source": [
    "dist_metric = Euclidean()\n",
    "@time distances = pairwise(distMetric, [voter.opinion for voter in experiment.sampled_voters], dims=2)"
   ]
  },
  {
   "cell_type": "code",
   "execution_count": null,
   "metadata": {},
   "outputs": [],
   "source": [
    "labels = [voter.label for voter in experiment.sampled_voters]\n",
    "mean(silhouettes(labels, distances))"
   ]
  },
  {
   "cell_type": "markdown",
   "metadata": {},
   "source": [
    "### Create a new log"
   ]
  },
  {
   "cell_type": "code",
   "execution_count": null,
   "metadata": {},
   "outputs": [],
   "source": [
    "logdir = \"logs/\" * Dates.format(now(), \"yyyy-mm-dd_HH-MM-SS\")\n",
    "expCounter = 1\n",
    "mkpath(logdir)"
   ]
  },
  {
   "cell_type": "markdown",
   "metadata": {},
   "source": [
    "#### Configure init variables"
   ]
  },
  {
   "cell_type": "code",
   "execution_count": null,
   "metadata": {},
   "outputs": [],
   "source": [
    "initConfig = Dict(\n",
    "    \"inputFileName\" => \"ED-00001-00000002.soi\",\n",
    "    \"weightFunc\" => Dict(\n",
    "        \"type\" => \"power\",\n",
    "        \"power\" => 2\n",
    "    ),\n",
    "    \"distMetric\" => \"L1\",\n",
    "    \"edgeInitFunc\" => Dict(\n",
    "        \"type\" => \"exp\",\n",
    "        \"base\" => 1/2,\n",
    "        \"offset\" => -6.28\n",
    "    )\n",
    ")\n",
    "YAML.write_file(\"$(logdir)/initConfig.yml\", initConfig)"
   ]
  },
  {
   "cell_type": "code",
   "execution_count": null,
   "metadata": {},
   "outputs": [],
   "source": [
    "initConfig = YAML.load_file(\"$(logdir)/initConfig.yml\")"
   ]
  },
  {
   "cell_type": "markdown",
   "metadata": {},
   "source": [
    "### Init"
   ]
  },
  {
   "cell_type": "markdown",
   "metadata": {},
   "source": [
    "init database"
   ]
  },
  {
   "cell_type": "code",
   "execution_count": null,
   "metadata": {},
   "outputs": [],
   "source": [
    "@time parties, candidates, election = initDB(initConfig[\"inputFileName\"])"
   ]
  },
  {
   "cell_type": "markdown",
   "metadata": {},
   "source": [
    "encode database"
   ]
  },
  {
   "cell_type": "code",
   "execution_count": null,
   "metadata": {},
   "outputs": [],
   "source": [
    "weightFunc = parseFunction(initConfig[\"weightFunc\"])\n",
    "weights = map(weightFunc, 1.0:length(candidates))\n",
    "weights = translateRange(minimum(weights), maximum(weights), 0.0, 1.0, weights)"
   ]
  },
  {
   "cell_type": "code",
   "execution_count": null,
   "metadata": {},
   "outputs": [],
   "source": [
    "weightFunc = parseFunction(initConfig[\"weightFunc\"])\n",
    "weights = map(weightFunc, 1:length(candidates))\n",
    "weights = weights / sum(weights)"
   ]
  },
  {
   "cell_type": "code",
   "execution_count": null,
   "metadata": {},
   "outputs": [],
   "source": [
    "@time opinions = infer_opinions(election, weights)"
   ]
  },
  {
   "cell_type": "markdown",
   "metadata": {},
   "source": [
    "calculate distance matrix"
   ]
  },
  {
   "cell_type": "code",
   "execution_count": null,
   "metadata": {},
   "outputs": [],
   "source": [
    "distMetric = parseMetric(initConfig[\"distMetric\"])\n",
    "@time distances = pairwise(distMetric, opinions, dims=2)"
   ]
  },
  {
   "cell_type": "markdown",
   "metadata": {},
   "source": [
    "init graph"
   ]
  },
  {
   "cell_type": "code",
   "execution_count": null,
   "metadata": {},
   "outputs": [],
   "source": [
    "#edgeInitFunc = parseFunction(initConfig[\"edgeInitFunc\"]) 10x slower\n",
    "edgeInitFunc = x->(1/2)^(x + 5.14)\n",
    "distMetric = parseMetric(initConfig[\"distMetric\"])\n",
    "edges = generate_edges(opinions, distMetric, edgeInitFunc)\n",
    "@time g = initGraph(size(opinions, 2), edges)"
   ]
  },
  {
   "cell_type": "markdown",
   "metadata": {},
   "source": [
    "Log initial state"
   ]
  },
  {
   "cell_type": "code",
   "execution_count": null,
   "metadata": {},
   "outputs": [],
   "source": [
    "logger(g, database, logdir, 0)"
   ]
  },
  {
   "cell_type": "markdown",
   "metadata": {},
   "source": [
    "Alternatively you can load logged state"
   ]
  },
  {
   "cell_type": "code",
   "execution_count": null,
   "metadata": {},
   "outputs": [],
   "source": [
    "x, y, z = jldopen(\"example.jld2\", \"r\") do file\n",
    "    file[\"x\"], file[\"y\"], file[\"z\"], file[\"a\"]\n",
    "end"
   ]
  },
  {
   "cell_type": "code",
   "execution_count": null,
   "metadata": {},
   "outputs": [],
   "source": [
    "print(x,y,z)"
   ]
  },
  {
   "cell_type": "code",
   "execution_count": null,
   "metadata": {},
   "outputs": [],
   "source": [
    "#WIP Load state\n",
    "g, election, opinions, stats = loadLog(\"$(logdir)\")\n",
    "push!(stats, stat)"
   ]
  },
  {
   "cell_type": "markdown",
   "metadata": {},
   "source": [
    "## Create a new experiment"
   ]
  },
  {
   "cell_type": "code",
   "execution_count": null,
   "metadata": {},
   "outputs": [],
   "source": [
    "expDir = \"$(logdir)/experiment_$(expCounter)\"\n",
    "mkpath(expDir)\n",
    "expCounter += 1\n",
    "\n",
    "stats = Vector{Statistics}()\n",
    "stat = Statistics(g, getElectionResult(election))\n",
    "push!(stats, stat)\n",
    "\n",
    "counter = 1"
   ]
  },
  {
   "cell_type": "markdown",
   "metadata": {},
   "source": [
    "#### Configure experiment variables"
   ]
  },
  {
   "cell_type": "code",
   "execution_count": null,
   "metadata": {},
   "outputs": [],
   "source": [
    "expConfig = Dict(\n",
    "    \"diffusionConfig\" => Dict(\n",
    "        \"diffusions\" => 5,\n",
    "        \"vertexDiffConfig\" => Dict(\n",
    "            \"evolveVertices\" => 1000,\n",
    "            \"method\" => \"averageOne\"\n",
    "        ),\n",
    "        \"edgeDiffConfig\" => Dict(\n",
    "            \"evolveEdges\" => 1000,\n",
    "            \"distMetric\" => \"L1\",\n",
    "            \"edgeDiffFunc\" => Dict(\n",
    "                \"type\" => \"exp\",\n",
    "                \"base\" => 1/2\n",
    "            )\n",
    "        )\n",
    "    ),\n",
    "    \"reduceDimConfig\" => Dict(\n",
    "        \"used\" => true,\n",
    "        \"dataSize\" => 3000,\n",
    "        \"method\" => \"PCA\",\n",
    "        \"PCA\" => Dict(\n",
    "            \"outDim\" => 2\n",
    "        ),\n",
    "        \"tsne\" => Dict(\n",
    "            \"outDim\" => 2,\n",
    "            \"reduce_dims\" => 0,\n",
    "            \"max_iter\" => 3000,\n",
    "            \"perplexity\" => 100.0\n",
    "        )\n",
    "    ),\n",
    "    \"clusteringConfig\" => Dict(\n",
    "        \"used\" => true,\n",
    "        \"method\" => \"Party\",\n",
    "        \"K-means\" => Dict(\n",
    "            \"clusterCount\" => 8\n",
    "        ),\n",
    "        \"GM\" => Dict(\n",
    "            \"clusterCount\" => 8\n",
    "        )\n",
    "    )\n",
    ")\n",
    "YAML.write_file(\"$(expDir)/expConfig.yml\", initConfig)"
   ]
  },
  {
   "cell_type": "markdown",
   "metadata": {},
   "source": [
    "sampling for visualizations"
   ]
  },
  {
   "cell_type": "code",
   "execution_count": null,
   "metadata": {},
   "outputs": [],
   "source": [
    "indexes = Nothing\n",
    "sampled_voters = Nothing\n",
    "sampled_opinions = Nothing\n",
    "if expConfig[\"reduceDimConfig\"][\"used\"]\n",
    "    mkpath(expDir * \"/images/voters\")\n",
    "    indexes = sample(1:size(opinions, 2), expConfig[\"reduceDimConfig\"][\"dataSize\"], replace=false)\n",
    "    sampled_voters = getCol(election, indexes)\n",
    "    sampled_opinions = getCol(opinions, indexes)\n",
    "end"
   ]
  },
  {
   "cell_type": "markdown",
   "metadata": {},
   "source": [
    "#### Run the experiment"
   ]
  },
  {
   "cell_type": "code",
   "execution_count": null,
   "metadata": {
    "scrolled": true
   },
   "outputs": [],
   "source": [
    "diffusionConfig = expConfig[\"diffusionConfig\"]\n",
    "if expConfig[\"reduceDimConfig\"][\"used\"] && counter == 1\n",
    "    visualizeVoters(sampled_opinions, sampled_voters, candidates, parties, expConfig, expDir * \"/images\", 0)\n",
    "end\n",
    "\n",
    "for i in 1:diffusionConfig[\"diffusions\"]\n",
    "    if initConfig[\"encoding\"] == \"spearmann\"\n",
    "        diffusion!(g, encodedDB, diffusionConfig)\n",
    "    else\n",
    "        diffusion!(g, database, encodedDB, diffusionConfig)\n",
    "    end\n",
    "    \n",
    "    stat = Statistics(g, getElectionResult(database))\n",
    "    push!(stats, stat)\n",
    "    \n",
    "    logger(g, database, expDir, counter)\n",
    "    \n",
    "    if expConfig[\"reduceDimConfig\"][\"used\"]\n",
    "        visualizeVoters(sampled_opinions, sampled_voters, candidates, parties, expConfig, expDir * \"/images\", counter)      \n",
    "    end\n",
    "    counter += 1\n",
    "end"
   ]
  },
  {
   "cell_type": "code",
   "execution_count": null,
   "metadata": {
    "scrolled": true
   },
   "outputs": [],
   "source": [
    "visualizeStatistics(database, stats::Vector{Statistics}, expDir * \"/images\")"
   ]
  },
  {
   "cell_type": "code",
   "execution_count": null,
   "metadata": {},
   "outputs": [],
   "source": [
    "visualizeElections(candidates, parties, stats::Vector{Statistics}, expDir * \"/images\")"
   ]
  },
  {
   "cell_type": "markdown",
   "metadata": {},
   "source": [
    "## Aditional analysis"
   ]
  },
  {
   "cell_type": "code",
   "execution_count": null,
   "metadata": {},
   "outputs": [],
   "source": [
    "stats"
   ]
  }
 ],
 "metadata": {
  "@webio": {
   "lastCommId": null,
   "lastKernelId": null
  },
  "kernelspec": {
   "display_name": "Julia 1.6.1",
   "language": "julia",
   "name": "julia-1.6"
  },
  "language_info": {
   "file_extension": ".jl",
   "mimetype": "application/julia",
   "name": "julia",
   "version": "1.6.1"
  }
 },
 "nbformat": 4,
 "nbformat_minor": 4
}
