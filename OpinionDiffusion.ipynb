{
 "cells": [
  {
   "cell_type": "markdown",
   "metadata": {},
   "source": [
    "# Prerequisites"
   ]
  },
  {
   "cell_type": "markdown",
   "metadata": {},
   "source": [
    "Precompile packages and include project source files"
   ]
  },
  {
   "cell_type": "markdown",
   "metadata": {},
   "source": [
    "# Dimensionality reduction"
   ]
  },
  {
   "cell_type": "markdown",
   "metadata": {},
   "source": [
    "### Init"
   ]
  },
  {
   "cell_type": "markdown",
   "metadata": {},
   "source": [
    "Sample encoded database for better performance"
   ]
  },
  {
   "cell_type": "code",
   "execution_count": null,
   "metadata": {},
   "outputs": [],
   "source": [
    "dataSize = 3000\n",
    "indexes = sample(1:size(encodedDB, 2), dataSize, replace=false)\n",
    "data = getCol(encodedDB, indexes)\n",
    "outDim = 2"
   ]
  },
  {
   "cell_type": "markdown",
   "metadata": {},
   "source": [
    "Use the whole database"
   ]
  },
  {
   "cell_type": "code",
   "execution_count": null,
   "metadata": {},
   "outputs": [],
   "source": [
    "indexes = 1:size(encodedDB, 2)\n",
    "data = encodedDB\n",
    "outdim = 2"
   ]
  },
  {
   "cell_type": "markdown",
   "metadata": {},
   "source": [
    "### PCA"
   ]
  },
  {
   "cell_type": "code",
   "execution_count": null,
   "metadata": {},
   "outputs": [],
   "source": [
    "DimRedMethod = \"PCA\"\n",
    "model = fit(PCA, data; maxoutdim=outDim)\n",
    "pred = MultivariateStats.transform(model, data)"
   ]
  },
  {
   "cell_type": "markdown",
   "metadata": {},
   "source": [
    "### T-sne"
   ]
  },
  {
   "cell_type": "code",
   "execution_count": null,
   "metadata": {},
   "outputs": [],
   "source": [
    "DimRedMethod = \"T-sne\"\n",
    "reduce_dims = 0\n",
    "max_iter = 3000\n",
    "perplexity = 100.0\n",
    "pred = permutedims(tsne(distances[indexes, indexes], distance=true, outDim, reduce_dims, max_iter, perplexity))"
   ]
  },
  {
   "cell_type": "markdown",
   "metadata": {},
   "source": [
    "# Clustering"
   ]
  },
  {
   "cell_type": "markdown",
   "metadata": {},
   "source": [
    "The closer the silhouette value is to 1.0 the better the clustering is"
   ]
  },
  {
   "cell_type": "markdown",
   "metadata": {},
   "source": [
    "### Init"
   ]
  },
  {
   "cell_type": "code",
   "execution_count": null,
   "metadata": {},
   "outputs": [],
   "source": [
    "cluster_count=8"
   ]
  },
  {
   "cell_type": "markdown",
   "metadata": {},
   "source": [
    "### Based on first first in preference"
   ]
  },
  {
   "cell_type": "code",
   "execution_count": null,
   "metadata": {},
   "outputs": [],
   "source": [
    "ClustMethod = \"Party\"\n",
    "labels = database[1, indexes]\n",
    "clusters = clusterize(labels, candidates, parties)\n",
    "mean(silhouettes(labels, distances[indexes, indexes]))"
   ]
  },
  {
   "cell_type": "markdown",
   "metadata": {},
   "source": [
    "### K-means"
   ]
  },
  {
   "cell_type": "code",
   "execution_count": null,
   "metadata": {},
   "outputs": [],
   "source": [
    "ClustMethod = \"K-means\"\n",
    "KmeansRes = kmeans(data, cluster_count; maxiter=200)\n",
    "labels = KmeansRes.assignments\n",
    "clusters = clusterize(labels)\n",
    "mean(silhouettes(labels, distances[indexes, indexes]))"
   ]
  },
  {
   "cell_type": "markdown",
   "metadata": {},
   "source": [
    "### Gaussian mixtures"
   ]
  },
  {
   "cell_type": "code",
   "execution_count": null,
   "metadata": {},
   "outputs": [],
   "source": [
    "ClustMethod = \"GM\"\n",
    "data_T = permutedims(data)\n",
    "gm = GaussianMixture(n_components=cluster_count).fit(data_T)\n",
    "labels = gm.predict(data_T) .+ 1\n",
    "clusters = clusterize(labels)\n",
    "mean(silhouettes(labels, distances[indexes, indexes]))"
   ]
  },
  {
   "cell_type": "markdown",
   "metadata": {},
   "source": [
    "## Clustering Validation"
   ]
  },
  {
   "cell_type": "code",
   "execution_count": null,
   "metadata": {},
   "outputs": [],
   "source": [
    "mean(silhouettes(labels, distances[indexes, indexes]))"
   ]
  },
  {
   "cell_type": "markdown",
   "metadata": {},
   "source": [
    "## Clustering visualization"
   ]
  },
  {
   "cell_type": "markdown",
   "metadata": {},
   "source": [
    "Save template clusters for later to match cluster colours based on it"
   ]
  },
  {
   "cell_type": "code",
   "execution_count": null,
   "metadata": {},
   "outputs": [],
   "source": [
    "template = clusters"
   ]
  },
  {
   "cell_type": "code",
   "execution_count": null,
   "metadata": {},
   "outputs": [],
   "source": [
    "unify_labels!(template, clusters)"
   ]
  },
  {
   "cell_type": "code",
   "execution_count": null,
   "metadata": {},
   "outputs": [],
   "source": [
    "visualize(pred, clusters, DimRedMethod, ClustMethod, output=true)"
   ]
  },
  {
   "cell_type": "markdown",
   "metadata": {},
   "source": [
    "### Creating graph out of clustered database"
   ]
  },
  {
   "cell_type": "code",
   "execution_count": null,
   "metadata": {},
   "outputs": [],
   "source": [
    "@time G = createClusteredMetaGraph(g, clusters, labels)"
   ]
  },
  {
   "cell_type": "markdown",
   "metadata": {},
   "source": [
    "## Drawing clustered graph"
   ]
  },
  {
   "cell_type": "code",
   "execution_count": null,
   "metadata": {},
   "outputs": [],
   "source": [
    "@time drawClusteredMetaGraph(G)"
   ]
  },
  {
   "cell_type": "markdown",
   "metadata": {},
   "source": [
    "## Experiment"
   ]
  },
  {
   "cell_type": "code",
   "execution_count": 3,
   "metadata": {},
   "outputs": [
    {
     "ename": "LoadError",
     "evalue": "ArgumentError: Package Opinion_diffusion not found in current path:\n- Run `import Pkg; Pkg.add(\"Opinion_diffusion\")` to install the Opinion_diffusion package.\n",
     "output_type": "error",
     "traceback": [
      "ArgumentError: Package Opinion_diffusion not found in current path:\n- Run `import Pkg; Pkg.add(\"Opinion_diffusion\")` to install the Opinion_diffusion package.\n",
      "",
      "Stacktrace:",
      " [1] require(into::Module, mod::Symbol)",
      "   @ Base .\\loading.jl:871",
      " [2] eval",
      "   @ .\\boot.jl:360 [inlined]",
      " [3] include_string(mapexpr::typeof(REPL.softscope), mod::Module, code::String, filename::String)",
      "   @ Base .\\loading.jl:1094"
     ]
    }
   ],
   "source": [
    "using Opinion_diffusion"
   ]
  },
  {
   "cell_type": "code",
   "execution_count": 4,
   "metadata": {},
   "outputs": [
    {
     "ename": "LoadError",
     "evalue": "syntax: invalid \"import\" statement: expected identifier",
     "output_type": "error",
     "traceback": [
      "syntax: invalid \"import\" statement: expected identifier",
      "",
      "Stacktrace:",
      " [1] top-level scope",
      "   @ In[4]:1",
      " [2] eval",
      "   @ .\\boot.jl:360 [inlined]",
      " [3] include_string(mapexpr::typeof(REPL.softscope), mod::Module, code::String, filename::String)",
      "   @ Base .\\loading.jl:1094"
     ]
    }
   ],
   "source": [
    "import(\"src/OpinionDiffusion.jl\")"
   ]
  },
  {
   "cell_type": "code",
   "execution_count": null,
   "metadata": {},
   "outputs": [],
   "source": [
    "@sk_import mixture : GaussianMixture\n",
    "Base.show(io::IO, f::Float64) = @printf(io, \"%1.4f\", f)"
   ]
  },
  {
   "cell_type": "markdown",
   "metadata": {},
   "source": [
    "Parse input data"
   ]
  },
  {
   "cell_type": "code",
   "execution_count": null,
   "metadata": {},
   "outputs": [],
   "source": [
    "input_filename = \"ED-00001-00000002.toc\"\n",
    "@time parties, candidates, election = parse_data2(input_filename)"
   ]
  },
  {
   "cell_type": "code",
   "execution_count": null,
   "metadata": {},
   "outputs": [],
   "source": [
    "model_config = Dict(\n",
    "    \"weight_func\" => Dict(\n",
    "        \"type\" => \"power\",\n",
    "        \"power\" => 2\n",
    "    ),\n",
    "    \"dist_metric\" => \"L1\",\n",
    "    \"edge_init_func\" => Dict(\n",
    "        \"type\" => \"exp\",\n",
    "        \"base\" => 1/2,\n",
    "        \"offset\" => -6.28\n",
    "    )\n",
    ")"
   ]
  },
  {
   "cell_type": "code",
   "execution_count": null,
   "metadata": {
    "scrolled": true
   },
   "outputs": [],
   "source": [
    "model = OpinionDiffusion.Spearman_model(election, length(candidates), model_config)"
   ]
  },
  {
   "cell_type": "code",
   "execution_count": null,
   "metadata": {},
   "outputs": [],
   "source": [
    "model = load(\"logs/2021-06-15_01-03-54/model.jld2\")"
   ]
  },
  {
   "cell_type": "code",
   "execution_count": null,
   "metadata": {},
   "outputs": [],
   "source": [
    "exp_config = Dict(\n",
    "    \"diffusions\" => 5,\n",
    "    \"checkpoint\" => 1,\n",
    "    \"sample_size\" => 3000,\n",
    "    \"reduce_dim_config\" => Dict(\n",
    "        \"used\" => true,\n",
    "        \"method\" => \"PCA\",\n",
    "        \"PCA\" => Dict(\n",
    "            \"out_dim\" => 2\n",
    "        ),\n",
    "        \"tsne\" => Dict(\n",
    "            \"out_dim\" => 2,\n",
    "            \"reduce_dims\" => 0,\n",
    "            \"max_iter\" => 3000,\n",
    "            \"perplexity\" => 100.0\n",
    "        )\n",
    "    ),\n",
    "    \"clustering_config\" => Dict(\n",
    "        \"used\" => true,\n",
    "        \"method\" => \"Party\",\n",
    "        \"K-means\" => Dict(\n",
    "            \"cluster_count\" => 8\n",
    "        ),\n",
    "        \"GM\" => Dict(\n",
    "            \"cluster_count\" => 8\n",
    "        )\n",
    "    )\n",
    ")"
   ]
  },
  {
   "cell_type": "code",
   "execution_count": null,
   "metadata": {},
   "outputs": [],
   "source": [
    "abstract type B end\n",
    "struct A <: B\n",
    "    x::Int64\n",
    "end\n",
    "function suc(b::Vector{A})\n",
    "    println(b[1].x + 2)\n",
    "end\n",
    "suc([A(42), A(69)])"
   ]
  },
  {
   "cell_type": "code",
   "execution_count": null,
   "metadata": {},
   "outputs": [],
   "source": [
    "experiment = OpinionDiffusion.Experiment(model, parties, candidates, exp_config)"
   ]
  },
  {
   "cell_type": "code",
   "execution_count": null,
   "metadata": {},
   "outputs": [],
   "source": [
    "diffusion_config = Dict(\n",
    "        \"vertex_diff_config\" => Dict(\n",
    "            \"evolve_vertices\" => 1000,\n",
    "            \"method\" => \"averageOne\"\n",
    "        ),\n",
    "        \"edge_diff_config\" => Dict(\n",
    "            \"evolve_edges\" => 1000,\n",
    "            \"dist_metric\" => \"L1\",\n",
    "            \"edge_diff_func\" => Dict(\n",
    "                \"type\" => \"exp\",\n",
    "                \"base\" => 1/2\n",
    "            )\n",
    "        )\n",
    "    )"
   ]
  },
  {
   "cell_type": "code",
   "execution_count": null,
   "metadata": {},
   "outputs": [],
   "source": [
    "run_experiment!()"
   ]
  },
  {
   "cell_type": "code",
   "execution_count": null,
   "metadata": {},
   "outputs": [],
   "source": [
    "visualizeStatistics(experiment)"
   ]
  },
  {
   "cell_type": "code",
   "execution_count": null,
   "metadata": {},
   "outputs": [],
   "source": [
    "visualizeElections(experiment)"
   ]
  },
  {
   "cell_type": "markdown",
   "metadata": {},
   "source": [
    "### Evaluate clustering"
   ]
  },
  {
   "cell_type": "code",
   "execution_count": null,
   "metadata": {},
   "outputs": [],
   "source": [
    "dist_metric = Euclidean()\n",
    "@time distances = pairwise(distMetric, [voter.opinion for voter in experiment.sampled_voters], dims=2)"
   ]
  },
  {
   "cell_type": "code",
   "execution_count": null,
   "metadata": {},
   "outputs": [],
   "source": [
    "labels = [voter.label for voter in experiment.sampled_voters]\n",
    "mean(silhouettes(labels, distances))"
   ]
  },
  {
   "cell_type": "markdown",
   "metadata": {},
   "source": [
    "### Create a new log"
   ]
  },
  {
   "cell_type": "code",
   "execution_count": null,
   "metadata": {},
   "outputs": [],
   "source": [
    "logdir = \"logs/\" * Dates.format(now(), \"yyyy-mm-dd_HH-MM-SS\")\n",
    "expCounter = 1\n",
    "mkpath(logdir)"
   ]
  },
  {
   "cell_type": "markdown",
   "metadata": {},
   "source": [
    "#### Configure init variables"
   ]
  },
  {
   "cell_type": "code",
   "execution_count": null,
   "metadata": {},
   "outputs": [],
   "source": [
    "initConfig = Dict(\n",
    "    \"inputFileName\" => \"ED-00001-00000002.soi\",\n",
    "    \"weightFunc\" => Dict(\n",
    "        \"type\" => \"power\",\n",
    "        \"power\" => 2\n",
    "    ),\n",
    "    \"distMetric\" => \"L1\",\n",
    "    \"edgeInitFunc\" => Dict(\n",
    "        \"type\" => \"exp\",\n",
    "        \"base\" => 1/2,\n",
    "        \"offset\" => -6.28\n",
    "    )\n",
    ")\n",
    "YAML.write_file(\"$(logdir)/initConfig.yml\", initConfig)"
   ]
  },
  {
   "cell_type": "code",
   "execution_count": null,
   "metadata": {},
   "outputs": [],
   "source": [
    "initConfig = YAML.load_file(\"$(logdir)/initConfig.yml\")"
   ]
  },
  {
   "cell_type": "markdown",
   "metadata": {},
   "source": [
    "### Init"
   ]
  },
  {
   "cell_type": "markdown",
   "metadata": {},
   "source": [
    "init database"
   ]
  },
  {
   "cell_type": "code",
   "execution_count": null,
   "metadata": {},
   "outputs": [],
   "source": [
    "@time parties, candidates, election = initDB(initConfig[\"inputFileName\"])"
   ]
  },
  {
   "cell_type": "markdown",
   "metadata": {},
   "source": [
    "encode database"
   ]
  },
  {
   "cell_type": "code",
   "execution_count": null,
   "metadata": {},
   "outputs": [],
   "source": [
    "weightFunc = parseFunction(initConfig[\"weightFunc\"])\n",
    "weights = map(weightFunc, 1.0:length(candidates))\n",
    "weights = translateRange(minimum(weights), maximum(weights), 0.0, 1.0, weights)"
   ]
  },
  {
   "cell_type": "code",
   "execution_count": null,
   "metadata": {},
   "outputs": [],
   "source": [
    "weightFunc = parseFunction(initConfig[\"weightFunc\"])\n",
    "weights = map(weightFunc, 1:length(candidates))\n",
    "weights = weights / sum(weights)"
   ]
  },
  {
   "cell_type": "code",
   "execution_count": null,
   "metadata": {},
   "outputs": [],
   "source": [
    "@time opinions = infer_opinions(election, weights)"
   ]
  },
  {
   "cell_type": "markdown",
   "metadata": {},
   "source": [
    "calculate distance matrix"
   ]
  },
  {
   "cell_type": "code",
   "execution_count": null,
   "metadata": {},
   "outputs": [],
   "source": [
    "distMetric = parseMetric(initConfig[\"distMetric\"])\n",
    "@time distances = pairwise(distMetric, opinions, dims=2)"
   ]
  },
  {
   "cell_type": "markdown",
   "metadata": {},
   "source": [
    "init graph"
   ]
  },
  {
   "cell_type": "code",
   "execution_count": null,
   "metadata": {},
   "outputs": [],
   "source": [
    "#edgeInitFunc = parseFunction(initConfig[\"edgeInitFunc\"]) 10x slower\n",
    "edgeInitFunc = x->(1/2)^(x + 5.14)\n",
    "distMetric = parseMetric(initConfig[\"distMetric\"])\n",
    "edges = generate_edges(opinions, distMetric, edgeInitFunc)\n",
    "@time g = initGraph(size(opinions, 2), edges)"
   ]
  },
  {
   "cell_type": "markdown",
   "metadata": {},
   "source": [
    "Log initial state"
   ]
  },
  {
   "cell_type": "code",
   "execution_count": null,
   "metadata": {},
   "outputs": [],
   "source": [
    "logger(g, database, logdir, 0)"
   ]
  },
  {
   "cell_type": "markdown",
   "metadata": {},
   "source": [
    "Alternatively you can load logged state"
   ]
  },
  {
   "cell_type": "code",
   "execution_count": null,
   "metadata": {},
   "outputs": [],
   "source": [
    "x, y, z = jldopen(\"example.jld2\", \"r\") do file\n",
    "    file[\"x\"], file[\"y\"], file[\"z\"], file[\"a\"]\n",
    "end"
   ]
  },
  {
   "cell_type": "code",
   "execution_count": null,
   "metadata": {},
   "outputs": [],
   "source": [
    "print(x,y,z)"
   ]
  },
  {
   "cell_type": "code",
   "execution_count": null,
   "metadata": {},
   "outputs": [],
   "source": [
    "#WIP Load state\n",
    "g, election, opinions, stats = loadLog(\"$(logdir)\")\n",
    "push!(stats, stat)"
   ]
  },
  {
   "cell_type": "markdown",
   "metadata": {},
   "source": [
    "## Create a new experiment"
   ]
  },
  {
   "cell_type": "code",
   "execution_count": null,
   "metadata": {},
   "outputs": [],
   "source": [
    "expDir = \"$(logdir)/experiment_$(expCounter)\"\n",
    "mkpath(expDir)\n",
    "expCounter += 1\n",
    "\n",
    "stats = Vector{Statistics}()\n",
    "stat = Statistics(g, getElectionResult(election))\n",
    "push!(stats, stat)\n",
    "\n",
    "counter = 1"
   ]
  },
  {
   "cell_type": "markdown",
   "metadata": {},
   "source": [
    "#### Configure experiment variables"
   ]
  },
  {
   "cell_type": "code",
   "execution_count": null,
   "metadata": {},
   "outputs": [],
   "source": [
    "expConfig = Dict(\n",
    "    \"diffusionConfig\" => Dict(\n",
    "        \"diffusions\" => 5,\n",
    "        \"vertexDiffConfig\" => Dict(\n",
    "            \"evolveVertices\" => 1000,\n",
    "            \"method\" => \"averageOne\"\n",
    "        ),\n",
    "        \"edgeDiffConfig\" => Dict(\n",
    "            \"evolveEdges\" => 1000,\n",
    "            \"distMetric\" => \"L1\",\n",
    "            \"edgeDiffFunc\" => Dict(\n",
    "                \"type\" => \"exp\",\n",
    "                \"base\" => 1/2\n",
    "            )\n",
    "        )\n",
    "    ),\n",
    "    \"reduceDimConfig\" => Dict(\n",
    "        \"used\" => true,\n",
    "        \"dataSize\" => 3000,\n",
    "        \"method\" => \"PCA\",\n",
    "        \"PCA\" => Dict(\n",
    "            \"outDim\" => 2\n",
    "        ),\n",
    "        \"tsne\" => Dict(\n",
    "            \"outDim\" => 2,\n",
    "            \"reduce_dims\" => 0,\n",
    "            \"max_iter\" => 3000,\n",
    "            \"perplexity\" => 100.0\n",
    "        )\n",
    "    ),\n",
    "    \"clusteringConfig\" => Dict(\n",
    "        \"used\" => true,\n",
    "        \"method\" => \"Party\",\n",
    "        \"K-means\" => Dict(\n",
    "            \"clusterCount\" => 8\n",
    "        ),\n",
    "        \"GM\" => Dict(\n",
    "            \"clusterCount\" => 8\n",
    "        )\n",
    "    )\n",
    ")\n",
    "YAML.write_file(\"$(expDir)/expConfig.yml\", initConfig)"
   ]
  },
  {
   "cell_type": "markdown",
   "metadata": {},
   "source": [
    "sampling for visualizations"
   ]
  },
  {
   "cell_type": "code",
   "execution_count": null,
   "metadata": {},
   "outputs": [],
   "source": [
    "indexes = Nothing\n",
    "sampled_voters = Nothing\n",
    "sampled_opinions = Nothing\n",
    "if expConfig[\"reduceDimConfig\"][\"used\"]\n",
    "    mkpath(expDir * \"/images/voters\")\n",
    "    indexes = sample(1:size(opinions, 2), expConfig[\"reduceDimConfig\"][\"dataSize\"], replace=false)\n",
    "    sampled_voters = getCol(election, indexes)\n",
    "    sampled_opinions = getCol(opinions, indexes)\n",
    "end"
   ]
  },
  {
   "cell_type": "markdown",
   "metadata": {},
   "source": [
    "#### Run the experiment"
   ]
  },
  {
   "cell_type": "code",
   "execution_count": null,
   "metadata": {
    "scrolled": true
   },
   "outputs": [],
   "source": [
    "diffusionConfig = expConfig[\"diffusionConfig\"]\n",
    "if expConfig[\"reduceDimConfig\"][\"used\"] && counter == 1\n",
    "    visualizeVoters(sampled_opinions, sampled_voters, candidates, parties, expConfig, expDir * \"/images\", 0)\n",
    "end\n",
    "\n",
    "for i in 1:diffusionConfig[\"diffusions\"]\n",
    "    if initConfig[\"encoding\"] == \"spearmann\"\n",
    "        diffusion!(g, encodedDB, diffusionConfig)\n",
    "    else\n",
    "        diffusion!(g, database, encodedDB, diffusionConfig)\n",
    "    end\n",
    "    \n",
    "    stat = Statistics(g, getElectionResult(database))\n",
    "    push!(stats, stat)\n",
    "    \n",
    "    logger(g, database, expDir, counter)\n",
    "    \n",
    "    if expConfig[\"reduceDimConfig\"][\"used\"]\n",
    "        visualizeVoters(sampled_opinions, sampled_voters, candidates, parties, expConfig, expDir * \"/images\", counter)      \n",
    "    end\n",
    "    counter += 1\n",
    "end"
   ]
  },
  {
   "cell_type": "code",
   "execution_count": null,
   "metadata": {
    "scrolled": true
   },
   "outputs": [],
   "source": [
    "visualizeStatistics(database, stats::Vector{Statistics}, expDir * \"/images\")"
   ]
  },
  {
   "cell_type": "code",
   "execution_count": null,
   "metadata": {},
   "outputs": [],
   "source": [
    "visualizeElections(candidates, parties, stats::Vector{Statistics}, expDir * \"/images\")"
   ]
  },
  {
   "cell_type": "markdown",
   "metadata": {},
   "source": [
    "## Aditional analysis"
   ]
  },
  {
   "cell_type": "code",
   "execution_count": null,
   "metadata": {},
   "outputs": [],
   "source": [
    "stats"
   ]
  }
 ],
 "metadata": {
  "@webio": {
   "lastCommId": null,
   "lastKernelId": null
  },
  "kernelspec": {
   "display_name": "Julia 1.6.1",
   "language": "julia",
   "name": "julia-1.6"
  },
  "language_info": {
   "file_extension": ".jl",
   "mimetype": "application/julia",
   "name": "julia",
   "version": "1.6.1"
  }
 },
 "nbformat": 4,
 "nbformat_minor": 4
}
